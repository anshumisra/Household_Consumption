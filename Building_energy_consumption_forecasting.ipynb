{
  "nbformat": 4,
  "nbformat_minor": 0,
  "metadata": {
    "colab": {
      "provenance": []
    },
    "kernelspec": {
      "name": "python3",
      "display_name": "Python 3"
    },
    "language_info": {
      "name": "python"
    }
  },
  "cells": [
    {
      "cell_type": "code",
      "metadata": {
        "id": "fTsTKR86ZolG"
      },
      "source": [
        "import pandas as pd\n",
        "import numpy as np\n",
        "import matplotlib.pyplot as plt"
      ],
      "execution_count": null,
      "outputs": []
    },
    {
      "cell_type": "code",
      "metadata": {
        "colab": {
          "base_uri": "https://localhost:8080/",
          "height": 424
        },
        "id": "OvV7ZP4hZqiv",
        "outputId": "c32a92ac-dde4-4bf6-ef12-fb563670daa2"
      },
      "source": [
        "Energy1 = pd.read_excel('/content/Building energy consumption racord.xlsx')\n",
        "Energy1"
      ],
      "execution_count": null,
      "outputs": [
        {
          "output_type": "execute_result",
          "data": {
            "text/plain": [
              "                     Time  building 41\n",
              "0     2016-01-01 01:00:00    23.783228\n",
              "1     2016-01-01 02:00:00    23.783228\n",
              "2     2016-01-01 03:00:00    23.783228\n",
              "3     2016-01-01 04:00:00    23.783228\n",
              "4     2016-01-01 05:00:00    23.783228\n",
              "...                   ...          ...\n",
              "26298 2018-12-31 19:00:00    18.602723\n",
              "26299 2018-12-31 20:00:00    18.838200\n",
              "26300 2018-12-31 21:00:00    18.602723\n",
              "26301 2018-12-31 22:00:00    18.131768\n",
              "26302 2018-12-31 23:00:00    18.602723\n",
              "\n",
              "[26303 rows x 2 columns]"
            ],
            "text/html": [
              "\n",
              "  <div id=\"df-92d6300d-fc4c-4d39-9b79-7be7bed6c9d3\">\n",
              "    <div class=\"colab-df-container\">\n",
              "      <div>\n",
              "<style scoped>\n",
              "    .dataframe tbody tr th:only-of-type {\n",
              "        vertical-align: middle;\n",
              "    }\n",
              "\n",
              "    .dataframe tbody tr th {\n",
              "        vertical-align: top;\n",
              "    }\n",
              "\n",
              "    .dataframe thead th {\n",
              "        text-align: right;\n",
              "    }\n",
              "</style>\n",
              "<table border=\"1\" class=\"dataframe\">\n",
              "  <thead>\n",
              "    <tr style=\"text-align: right;\">\n",
              "      <th></th>\n",
              "      <th>Time</th>\n",
              "      <th>building 41</th>\n",
              "    </tr>\n",
              "  </thead>\n",
              "  <tbody>\n",
              "    <tr>\n",
              "      <th>0</th>\n",
              "      <td>2016-01-01 01:00:00</td>\n",
              "      <td>23.783228</td>\n",
              "    </tr>\n",
              "    <tr>\n",
              "      <th>1</th>\n",
              "      <td>2016-01-01 02:00:00</td>\n",
              "      <td>23.783228</td>\n",
              "    </tr>\n",
              "    <tr>\n",
              "      <th>2</th>\n",
              "      <td>2016-01-01 03:00:00</td>\n",
              "      <td>23.783228</td>\n",
              "    </tr>\n",
              "    <tr>\n",
              "      <th>3</th>\n",
              "      <td>2016-01-01 04:00:00</td>\n",
              "      <td>23.783228</td>\n",
              "    </tr>\n",
              "    <tr>\n",
              "      <th>4</th>\n",
              "      <td>2016-01-01 05:00:00</td>\n",
              "      <td>23.783228</td>\n",
              "    </tr>\n",
              "    <tr>\n",
              "      <th>...</th>\n",
              "      <td>...</td>\n",
              "      <td>...</td>\n",
              "    </tr>\n",
              "    <tr>\n",
              "      <th>26298</th>\n",
              "      <td>2018-12-31 19:00:00</td>\n",
              "      <td>18.602723</td>\n",
              "    </tr>\n",
              "    <tr>\n",
              "      <th>26299</th>\n",
              "      <td>2018-12-31 20:00:00</td>\n",
              "      <td>18.838200</td>\n",
              "    </tr>\n",
              "    <tr>\n",
              "      <th>26300</th>\n",
              "      <td>2018-12-31 21:00:00</td>\n",
              "      <td>18.602723</td>\n",
              "    </tr>\n",
              "    <tr>\n",
              "      <th>26301</th>\n",
              "      <td>2018-12-31 22:00:00</td>\n",
              "      <td>18.131768</td>\n",
              "    </tr>\n",
              "    <tr>\n",
              "      <th>26302</th>\n",
              "      <td>2018-12-31 23:00:00</td>\n",
              "      <td>18.602723</td>\n",
              "    </tr>\n",
              "  </tbody>\n",
              "</table>\n",
              "<p>26303 rows × 2 columns</p>\n",
              "</div>\n",
              "      <button class=\"colab-df-convert\" onclick=\"convertToInteractive('df-92d6300d-fc4c-4d39-9b79-7be7bed6c9d3')\"\n",
              "              title=\"Convert this dataframe to an interactive table.\"\n",
              "              style=\"display:none;\">\n",
              "        \n",
              "  <svg xmlns=\"http://www.w3.org/2000/svg\" height=\"24px\"viewBox=\"0 0 24 24\"\n",
              "       width=\"24px\">\n",
              "    <path d=\"M0 0h24v24H0V0z\" fill=\"none\"/>\n",
              "    <path d=\"M18.56 5.44l.94 2.06.94-2.06 2.06-.94-2.06-.94-.94-2.06-.94 2.06-2.06.94zm-11 1L8.5 8.5l.94-2.06 2.06-.94-2.06-.94L8.5 2.5l-.94 2.06-2.06.94zm10 10l.94 2.06.94-2.06 2.06-.94-2.06-.94-.94-2.06-.94 2.06-2.06.94z\"/><path d=\"M17.41 7.96l-1.37-1.37c-.4-.4-.92-.59-1.43-.59-.52 0-1.04.2-1.43.59L10.3 9.45l-7.72 7.72c-.78.78-.78 2.05 0 2.83L4 21.41c.39.39.9.59 1.41.59.51 0 1.02-.2 1.41-.59l7.78-7.78 2.81-2.81c.8-.78.8-2.07 0-2.86zM5.41 20L4 18.59l7.72-7.72 1.47 1.35L5.41 20z\"/>\n",
              "  </svg>\n",
              "      </button>\n",
              "      \n",
              "  <style>\n",
              "    .colab-df-container {\n",
              "      display:flex;\n",
              "      flex-wrap:wrap;\n",
              "      gap: 12px;\n",
              "    }\n",
              "\n",
              "    .colab-df-convert {\n",
              "      background-color: #E8F0FE;\n",
              "      border: none;\n",
              "      border-radius: 50%;\n",
              "      cursor: pointer;\n",
              "      display: none;\n",
              "      fill: #1967D2;\n",
              "      height: 32px;\n",
              "      padding: 0 0 0 0;\n",
              "      width: 32px;\n",
              "    }\n",
              "\n",
              "    .colab-df-convert:hover {\n",
              "      background-color: #E2EBFA;\n",
              "      box-shadow: 0px 1px 2px rgba(60, 64, 67, 0.3), 0px 1px 3px 1px rgba(60, 64, 67, 0.15);\n",
              "      fill: #174EA6;\n",
              "    }\n",
              "\n",
              "    [theme=dark] .colab-df-convert {\n",
              "      background-color: #3B4455;\n",
              "      fill: #D2E3FC;\n",
              "    }\n",
              "\n",
              "    [theme=dark] .colab-df-convert:hover {\n",
              "      background-color: #434B5C;\n",
              "      box-shadow: 0px 1px 3px 1px rgba(0, 0, 0, 0.15);\n",
              "      filter: drop-shadow(0px 1px 2px rgba(0, 0, 0, 0.3));\n",
              "      fill: #FFFFFF;\n",
              "    }\n",
              "  </style>\n",
              "\n",
              "      <script>\n",
              "        const buttonEl =\n",
              "          document.querySelector('#df-92d6300d-fc4c-4d39-9b79-7be7bed6c9d3 button.colab-df-convert');\n",
              "        buttonEl.style.display =\n",
              "          google.colab.kernel.accessAllowed ? 'block' : 'none';\n",
              "\n",
              "        async function convertToInteractive(key) {\n",
              "          const element = document.querySelector('#df-92d6300d-fc4c-4d39-9b79-7be7bed6c9d3');\n",
              "          const dataTable =\n",
              "            await google.colab.kernel.invokeFunction('convertToInteractive',\n",
              "                                                     [key], {});\n",
              "          if (!dataTable) return;\n",
              "\n",
              "          const docLinkHtml = 'Like what you see? Visit the ' +\n",
              "            '<a target=\"_blank\" href=https://colab.research.google.com/notebooks/data_table.ipynb>data table notebook</a>'\n",
              "            + ' to learn more about interactive tables.';\n",
              "          element.innerHTML = '';\n",
              "          dataTable['output_type'] = 'display_data';\n",
              "          await google.colab.output.renderOutput(dataTable, element);\n",
              "          const docLink = document.createElement('div');\n",
              "          docLink.innerHTML = docLinkHtml;\n",
              "          element.appendChild(docLink);\n",
              "        }\n",
              "      </script>\n",
              "    </div>\n",
              "  </div>\n",
              "  "
            ]
          },
          "metadata": {},
          "execution_count": 2
        }
      ]
    },
    {
      "cell_type": "code",
      "metadata": {
        "id": "RF5tSV8Whs7t",
        "colab": {
          "base_uri": "https://localhost:8080/",
          "height": 455
        },
        "outputId": "4ecef28b-4178-407f-991c-b663dd626eff"
      },
      "source": [
        "# set time column as index\n",
        "Energy = Energy1.set_index('Time')\n",
        "Energy"
      ],
      "execution_count": null,
      "outputs": [
        {
          "output_type": "execute_result",
          "data": {
            "text/plain": [
              "                     building 41\n",
              "Time                            \n",
              "2016-01-01 01:00:00    23.783228\n",
              "2016-01-01 02:00:00    23.783228\n",
              "2016-01-01 03:00:00    23.783228\n",
              "2016-01-01 04:00:00    23.783228\n",
              "2016-01-01 05:00:00    23.783228\n",
              "...                          ...\n",
              "2018-12-31 19:00:00    18.602723\n",
              "2018-12-31 20:00:00    18.838200\n",
              "2018-12-31 21:00:00    18.602723\n",
              "2018-12-31 22:00:00    18.131768\n",
              "2018-12-31 23:00:00    18.602723\n",
              "\n",
              "[26303 rows x 1 columns]"
            ],
            "text/html": [
              "\n",
              "  <div id=\"df-4bc9d861-7a36-4205-b115-0b6f03b3bb91\">\n",
              "    <div class=\"colab-df-container\">\n",
              "      <div>\n",
              "<style scoped>\n",
              "    .dataframe tbody tr th:only-of-type {\n",
              "        vertical-align: middle;\n",
              "    }\n",
              "\n",
              "    .dataframe tbody tr th {\n",
              "        vertical-align: top;\n",
              "    }\n",
              "\n",
              "    .dataframe thead th {\n",
              "        text-align: right;\n",
              "    }\n",
              "</style>\n",
              "<table border=\"1\" class=\"dataframe\">\n",
              "  <thead>\n",
              "    <tr style=\"text-align: right;\">\n",
              "      <th></th>\n",
              "      <th>building 41</th>\n",
              "    </tr>\n",
              "    <tr>\n",
              "      <th>Time</th>\n",
              "      <th></th>\n",
              "    </tr>\n",
              "  </thead>\n",
              "  <tbody>\n",
              "    <tr>\n",
              "      <th>2016-01-01 01:00:00</th>\n",
              "      <td>23.783228</td>\n",
              "    </tr>\n",
              "    <tr>\n",
              "      <th>2016-01-01 02:00:00</th>\n",
              "      <td>23.783228</td>\n",
              "    </tr>\n",
              "    <tr>\n",
              "      <th>2016-01-01 03:00:00</th>\n",
              "      <td>23.783228</td>\n",
              "    </tr>\n",
              "    <tr>\n",
              "      <th>2016-01-01 04:00:00</th>\n",
              "      <td>23.783228</td>\n",
              "    </tr>\n",
              "    <tr>\n",
              "      <th>2016-01-01 05:00:00</th>\n",
              "      <td>23.783228</td>\n",
              "    </tr>\n",
              "    <tr>\n",
              "      <th>...</th>\n",
              "      <td>...</td>\n",
              "    </tr>\n",
              "    <tr>\n",
              "      <th>2018-12-31 19:00:00</th>\n",
              "      <td>18.602723</td>\n",
              "    </tr>\n",
              "    <tr>\n",
              "      <th>2018-12-31 20:00:00</th>\n",
              "      <td>18.838200</td>\n",
              "    </tr>\n",
              "    <tr>\n",
              "      <th>2018-12-31 21:00:00</th>\n",
              "      <td>18.602723</td>\n",
              "    </tr>\n",
              "    <tr>\n",
              "      <th>2018-12-31 22:00:00</th>\n",
              "      <td>18.131768</td>\n",
              "    </tr>\n",
              "    <tr>\n",
              "      <th>2018-12-31 23:00:00</th>\n",
              "      <td>18.602723</td>\n",
              "    </tr>\n",
              "  </tbody>\n",
              "</table>\n",
              "<p>26303 rows × 1 columns</p>\n",
              "</div>\n",
              "      <button class=\"colab-df-convert\" onclick=\"convertToInteractive('df-4bc9d861-7a36-4205-b115-0b6f03b3bb91')\"\n",
              "              title=\"Convert this dataframe to an interactive table.\"\n",
              "              style=\"display:none;\">\n",
              "        \n",
              "  <svg xmlns=\"http://www.w3.org/2000/svg\" height=\"24px\"viewBox=\"0 0 24 24\"\n",
              "       width=\"24px\">\n",
              "    <path d=\"M0 0h24v24H0V0z\" fill=\"none\"/>\n",
              "    <path d=\"M18.56 5.44l.94 2.06.94-2.06 2.06-.94-2.06-.94-.94-2.06-.94 2.06-2.06.94zm-11 1L8.5 8.5l.94-2.06 2.06-.94-2.06-.94L8.5 2.5l-.94 2.06-2.06.94zm10 10l.94 2.06.94-2.06 2.06-.94-2.06-.94-.94-2.06-.94 2.06-2.06.94z\"/><path d=\"M17.41 7.96l-1.37-1.37c-.4-.4-.92-.59-1.43-.59-.52 0-1.04.2-1.43.59L10.3 9.45l-7.72 7.72c-.78.78-.78 2.05 0 2.83L4 21.41c.39.39.9.59 1.41.59.51 0 1.02-.2 1.41-.59l7.78-7.78 2.81-2.81c.8-.78.8-2.07 0-2.86zM5.41 20L4 18.59l7.72-7.72 1.47 1.35L5.41 20z\"/>\n",
              "  </svg>\n",
              "      </button>\n",
              "      \n",
              "  <style>\n",
              "    .colab-df-container {\n",
              "      display:flex;\n",
              "      flex-wrap:wrap;\n",
              "      gap: 12px;\n",
              "    }\n",
              "\n",
              "    .colab-df-convert {\n",
              "      background-color: #E8F0FE;\n",
              "      border: none;\n",
              "      border-radius: 50%;\n",
              "      cursor: pointer;\n",
              "      display: none;\n",
              "      fill: #1967D2;\n",
              "      height: 32px;\n",
              "      padding: 0 0 0 0;\n",
              "      width: 32px;\n",
              "    }\n",
              "\n",
              "    .colab-df-convert:hover {\n",
              "      background-color: #E2EBFA;\n",
              "      box-shadow: 0px 1px 2px rgba(60, 64, 67, 0.3), 0px 1px 3px 1px rgba(60, 64, 67, 0.15);\n",
              "      fill: #174EA6;\n",
              "    }\n",
              "\n",
              "    [theme=dark] .colab-df-convert {\n",
              "      background-color: #3B4455;\n",
              "      fill: #D2E3FC;\n",
              "    }\n",
              "\n",
              "    [theme=dark] .colab-df-convert:hover {\n",
              "      background-color: #434B5C;\n",
              "      box-shadow: 0px 1px 3px 1px rgba(0, 0, 0, 0.15);\n",
              "      filter: drop-shadow(0px 1px 2px rgba(0, 0, 0, 0.3));\n",
              "      fill: #FFFFFF;\n",
              "    }\n",
              "  </style>\n",
              "\n",
              "      <script>\n",
              "        const buttonEl =\n",
              "          document.querySelector('#df-4bc9d861-7a36-4205-b115-0b6f03b3bb91 button.colab-df-convert');\n",
              "        buttonEl.style.display =\n",
              "          google.colab.kernel.accessAllowed ? 'block' : 'none';\n",
              "\n",
              "        async function convertToInteractive(key) {\n",
              "          const element = document.querySelector('#df-4bc9d861-7a36-4205-b115-0b6f03b3bb91');\n",
              "          const dataTable =\n",
              "            await google.colab.kernel.invokeFunction('convertToInteractive',\n",
              "                                                     [key], {});\n",
              "          if (!dataTable) return;\n",
              "\n",
              "          const docLinkHtml = 'Like what you see? Visit the ' +\n",
              "            '<a target=\"_blank\" href=https://colab.research.google.com/notebooks/data_table.ipynb>data table notebook</a>'\n",
              "            + ' to learn more about interactive tables.';\n",
              "          element.innerHTML = '';\n",
              "          dataTable['output_type'] = 'display_data';\n",
              "          await google.colab.output.renderOutput(dataTable, element);\n",
              "          const docLink = document.createElement('div');\n",
              "          docLink.innerHTML = docLinkHtml;\n",
              "          element.appendChild(docLink);\n",
              "        }\n",
              "      </script>\n",
              "    </div>\n",
              "  </div>\n",
              "  "
            ]
          },
          "metadata": {},
          "execution_count": 3
        }
      ]
    },
    {
      "cell_type": "code",
      "metadata": {
        "id": "4gyq0VRpjAo_",
        "colab": {
          "base_uri": "https://localhost:8080/",
          "height": 300
        },
        "outputId": "df3ea46c-1cde-4253-c351-760f1ba58eb7"
      },
      "source": [
        "# Check the description of the data\n",
        "Energy.describe()"
      ],
      "execution_count": null,
      "outputs": [
        {
          "output_type": "execute_result",
          "data": {
            "text/plain": [
              "        building 41\n",
              "count  26303.000000\n",
              "mean      25.694969\n",
              "std        6.317738\n",
              "min       15.541515\n",
              "25%       20.957498\n",
              "50%       23.783228\n",
              "75%       28.728255\n",
              "max       59.340330"
            ],
            "text/html": [
              "\n",
              "  <div id=\"df-60ed0d61-6706-4e3a-a26f-53fdaa452690\">\n",
              "    <div class=\"colab-df-container\">\n",
              "      <div>\n",
              "<style scoped>\n",
              "    .dataframe tbody tr th:only-of-type {\n",
              "        vertical-align: middle;\n",
              "    }\n",
              "\n",
              "    .dataframe tbody tr th {\n",
              "        vertical-align: top;\n",
              "    }\n",
              "\n",
              "    .dataframe thead th {\n",
              "        text-align: right;\n",
              "    }\n",
              "</style>\n",
              "<table border=\"1\" class=\"dataframe\">\n",
              "  <thead>\n",
              "    <tr style=\"text-align: right;\">\n",
              "      <th></th>\n",
              "      <th>building 41</th>\n",
              "    </tr>\n",
              "  </thead>\n",
              "  <tbody>\n",
              "    <tr>\n",
              "      <th>count</th>\n",
              "      <td>26303.000000</td>\n",
              "    </tr>\n",
              "    <tr>\n",
              "      <th>mean</th>\n",
              "      <td>25.694969</td>\n",
              "    </tr>\n",
              "    <tr>\n",
              "      <th>std</th>\n",
              "      <td>6.317738</td>\n",
              "    </tr>\n",
              "    <tr>\n",
              "      <th>min</th>\n",
              "      <td>15.541515</td>\n",
              "    </tr>\n",
              "    <tr>\n",
              "      <th>25%</th>\n",
              "      <td>20.957498</td>\n",
              "    </tr>\n",
              "    <tr>\n",
              "      <th>50%</th>\n",
              "      <td>23.783228</td>\n",
              "    </tr>\n",
              "    <tr>\n",
              "      <th>75%</th>\n",
              "      <td>28.728255</td>\n",
              "    </tr>\n",
              "    <tr>\n",
              "      <th>max</th>\n",
              "      <td>59.340330</td>\n",
              "    </tr>\n",
              "  </tbody>\n",
              "</table>\n",
              "</div>\n",
              "      <button class=\"colab-df-convert\" onclick=\"convertToInteractive('df-60ed0d61-6706-4e3a-a26f-53fdaa452690')\"\n",
              "              title=\"Convert this dataframe to an interactive table.\"\n",
              "              style=\"display:none;\">\n",
              "        \n",
              "  <svg xmlns=\"http://www.w3.org/2000/svg\" height=\"24px\"viewBox=\"0 0 24 24\"\n",
              "       width=\"24px\">\n",
              "    <path d=\"M0 0h24v24H0V0z\" fill=\"none\"/>\n",
              "    <path d=\"M18.56 5.44l.94 2.06.94-2.06 2.06-.94-2.06-.94-.94-2.06-.94 2.06-2.06.94zm-11 1L8.5 8.5l.94-2.06 2.06-.94-2.06-.94L8.5 2.5l-.94 2.06-2.06.94zm10 10l.94 2.06.94-2.06 2.06-.94-2.06-.94-.94-2.06-.94 2.06-2.06.94z\"/><path d=\"M17.41 7.96l-1.37-1.37c-.4-.4-.92-.59-1.43-.59-.52 0-1.04.2-1.43.59L10.3 9.45l-7.72 7.72c-.78.78-.78 2.05 0 2.83L4 21.41c.39.39.9.59 1.41.59.51 0 1.02-.2 1.41-.59l7.78-7.78 2.81-2.81c.8-.78.8-2.07 0-2.86zM5.41 20L4 18.59l7.72-7.72 1.47 1.35L5.41 20z\"/>\n",
              "  </svg>\n",
              "      </button>\n",
              "      \n",
              "  <style>\n",
              "    .colab-df-container {\n",
              "      display:flex;\n",
              "      flex-wrap:wrap;\n",
              "      gap: 12px;\n",
              "    }\n",
              "\n",
              "    .colab-df-convert {\n",
              "      background-color: #E8F0FE;\n",
              "      border: none;\n",
              "      border-radius: 50%;\n",
              "      cursor: pointer;\n",
              "      display: none;\n",
              "      fill: #1967D2;\n",
              "      height: 32px;\n",
              "      padding: 0 0 0 0;\n",
              "      width: 32px;\n",
              "    }\n",
              "\n",
              "    .colab-df-convert:hover {\n",
              "      background-color: #E2EBFA;\n",
              "      box-shadow: 0px 1px 2px rgba(60, 64, 67, 0.3), 0px 1px 3px 1px rgba(60, 64, 67, 0.15);\n",
              "      fill: #174EA6;\n",
              "    }\n",
              "\n",
              "    [theme=dark] .colab-df-convert {\n",
              "      background-color: #3B4455;\n",
              "      fill: #D2E3FC;\n",
              "    }\n",
              "\n",
              "    [theme=dark] .colab-df-convert:hover {\n",
              "      background-color: #434B5C;\n",
              "      box-shadow: 0px 1px 3px 1px rgba(0, 0, 0, 0.15);\n",
              "      filter: drop-shadow(0px 1px 2px rgba(0, 0, 0, 0.3));\n",
              "      fill: #FFFFFF;\n",
              "    }\n",
              "  </style>\n",
              "\n",
              "      <script>\n",
              "        const buttonEl =\n",
              "          document.querySelector('#df-60ed0d61-6706-4e3a-a26f-53fdaa452690 button.colab-df-convert');\n",
              "        buttonEl.style.display =\n",
              "          google.colab.kernel.accessAllowed ? 'block' : 'none';\n",
              "\n",
              "        async function convertToInteractive(key) {\n",
              "          const element = document.querySelector('#df-60ed0d61-6706-4e3a-a26f-53fdaa452690');\n",
              "          const dataTable =\n",
              "            await google.colab.kernel.invokeFunction('convertToInteractive',\n",
              "                                                     [key], {});\n",
              "          if (!dataTable) return;\n",
              "\n",
              "          const docLinkHtml = 'Like what you see? Visit the ' +\n",
              "            '<a target=\"_blank\" href=https://colab.research.google.com/notebooks/data_table.ipynb>data table notebook</a>'\n",
              "            + ' to learn more about interactive tables.';\n",
              "          element.innerHTML = '';\n",
              "          dataTable['output_type'] = 'display_data';\n",
              "          await google.colab.output.renderOutput(dataTable, element);\n",
              "          const docLink = document.createElement('div');\n",
              "          docLink.innerHTML = docLinkHtml;\n",
              "          element.appendChild(docLink);\n",
              "        }\n",
              "      </script>\n",
              "    </div>\n",
              "  </div>\n",
              "  "
            ]
          },
          "metadata": {},
          "execution_count": 4
        }
      ]
    },
    {
      "cell_type": "code",
      "metadata": {
        "id": "mWQvrX9cPEWq",
        "colab": {
          "base_uri": "https://localhost:8080/",
          "height": 265
        },
        "outputId": "24967c3b-df55-47b0-ac5e-75a9795cf7a5"
      },
      "source": [
        "plt.boxplot(Energy['building 41']) # Energy.loc[:,'building 41'] or Energy.iloc[:,0]\n",
        "plt.show()"
      ],
      "execution_count": null,
      "outputs": [
        {
          "output_type": "display_data",
          "data": {
            "text/plain": [
              "<Figure size 432x288 with 1 Axes>"
            ],
            "image/png": "[encoded data removed]"
          },
          "metadata": {
            "needs_background": "light"
          }
        }
      ]
    },
    {
      "cell_type": "code",
      "metadata": {
        "id": "OHISjMsEjCjg",
        "colab": {
          "base_uri": "https://localhost:8080/",
          "height": 351
        },
        "outputId": "e59bcb34-c454-4cd8-9c95-86099a2c4664"
      },
      "source": [
        "# visual representation of the data description\n",
        "import seaborn as sns\n",
        "sns.boxplot(Energy['building 41'])"
      ],
      "execution_count": null,
      "outputs": [
        {
          "output_type": "stream",
          "name": "stderr",
          "text": [
            "/usr/local/lib/python3.7/dist-packages/seaborn/_decorators.py:43: FutureWarning: Pass the following variable as a keyword arg: x. From version 0.12, the only valid positional argument will be `data`, and passing other arguments without an explicit keyword will result in an error or misinterpretation.\n",
            "  FutureWarning\n"
          ]
        },
        {
          "output_type": "execute_result",
          "data": {
            "text/plain": [
              "<matplotlib.axes._subplots.AxesSubplot at 0x7ff2ae1a3a10>"
            ]
          },
          "metadata": {},
          "execution_count": 6
        },
        {
          "output_type": "display_data",
          "data": {
            "text/plain": [
              "<Figure size 432x288 with 1 Axes>"
            ],
            "image/png": "[encoded data removed]"
          },
          "metadata": {
            "needs_background": "light"
          }
        }
      ]
    },
    {
      "cell_type": "code",
      "metadata": {
        "id": "_k3u1K5pjCft",
        "colab": {
          "base_uri": "https://localhost:8080/",
          "height": 424
        },
        "outputId": "425bcd21-d88f-4059-f2b6-24de74e968e3"
      },
      "source": [
        "#Load the Weather data from the excel file\n",
        "Path= \"/content/WeatherData.xlsx\"\n",
        "knmi= pd.read_excel(Path)\n",
        "knmi\n",
        "\n",
        "#TD -dew point temperature\n",
        "#U - relative Humidity\n",
        "#FX - Wind Gust\n",
        "#DR - Duration of Precipitation"
      ],
      "execution_count": null,
      "outputs": [
        {
          "output_type": "execute_result",
          "data": {
            "text/plain": [
              "                     Time  month  HH  TD   U  Temp    RH  Q  DR  FF  FX      P\n",
              "0     2016-01-01 01:00:00      1   1  38  82   6.6  0.82  0   0  30  70  10224\n",
              "1     2016-01-01 02:00:00      1   2  43  83   7.0  0.83  0   0  40  80  10228\n",
              "2     2016-01-01 03:00:00      1   3  46  91   5.9  0.91  0   0  30  80  10232\n",
              "3     2016-01-01 04:00:00      1   4  36  96   4.2  0.96  0   0  20  40  10237\n",
              "4     2016-01-01 05:00:00      1   5  37  98   4.0  0.98  0   0  20  30  10240\n",
              "...                   ...    ...  ..  ..  ..   ...   ... ..  ..  ..  ..    ...\n",
              "26298 2018-12-31 19:00:00     12  19  78  93   8.7  0.93  0   0  30  60  10341\n",
              "26299 2018-12-31 20:00:00     12  20  74  92   8.5  0.92  0   0  30  50  10338\n",
              "26300 2018-12-31 21:00:00     12  21  66  89   8.2  0.89  0   0  40  60  10336\n",
              "26301 2018-12-31 22:00:00     12  22  68  94   7.6  0.94  0   0  40  70  10332\n",
              "26302 2018-12-31 23:00:00     12  23  67  94   7.6  0.94  0   7  40  60  10333\n",
              "\n",
              "[26303 rows x 12 columns]"
            ],
            "text/html": [
              "\n",
              "  <div id=\"df-57d8a7e9-8dd9-45d0-bcde-a2ee9879baf8\">\n",
              "    <div class=\"colab-df-container\">\n",
              "      <div>\n",
              "<style scoped>\n",
              "    .dataframe tbody tr th:only-of-type {\n",
              "        vertical-align: middle;\n",
              "    }\n",
              "\n",
              "    .dataframe tbody tr th {\n",
              "        vertical-align: top;\n",
              "    }\n",
              "\n",
              "    .dataframe thead th {\n",
              "        text-align: right;\n",
              "    }\n",
              "</style>\n",
              "<table border=\"1\" class=\"dataframe\">\n",
              "  <thead>\n",
              "    <tr style=\"text-align: right;\">\n",
              "      <th></th>\n",
              "      <th>Time</th>\n",
              "      <th>month</th>\n",
              "      <th>HH</th>\n",
              "      <th>TD</th>\n",
              "      <th>U</th>\n",
              "      <th>Temp</th>\n",
              "      <th>RH</th>\n",
              "      <th>Q</th>\n",
              "      <th>DR</th>\n",
              "      <th>FF</th>\n",
              "      <th>FX</th>\n",
              "      <th>P</th>\n",
              "    </tr>\n",
              "  </thead>\n",
              "  <tbody>\n",
              "    <tr>\n",
              "      <th>0</th>\n",
              "      <td>2016-01-01 01:00:00</td>\n",
              "      <td>1</td>\n",
              "      <td>1</td>\n",
              "      <td>38</td>\n",
              "      <td>82</td>\n",
              "      <td>6.6</td>\n",
              "      <td>0.82</td>\n",
              "      <td>0</td>\n",
              "      <td>0</td>\n",
              "      <td>30</td>\n",
              "      <td>70</td>\n",
              "      <td>10224</td>\n",
              "    </tr>\n",
              "    <tr>\n",
              "      <th>1</th>\n",
              "      <td>2016-01-01 02:00:00</td>\n",
              "      <td>1</td>\n",
              "      <td>2</td>\n",
              "      <td>43</td>\n",
              "      <td>83</td>\n",
              "      <td>7.0</td>\n",
              "      <td>0.83</td>\n",
              "      <td>0</td>\n",
              "      <td>0</td>\n",
              "      <td>40</td>\n",
              "      <td>80</td>\n",
              "      <td>10228</td>\n",
              "    </tr>\n",
              "    <tr>\n",
              "      <th>2</th>\n",
              "      <td>2016-01-01 03:00:00</td>\n",
              "      <td>1</td>\n",
              "      <td>3</td>\n",
              "      <td>46</td>\n",
              "      <td>91</td>\n",
              "      <td>5.9</td>\n",
              "      <td>0.91</td>\n",
              "      <td>0</td>\n",
              "      <td>0</td>\n",
              "      <td>30</td>\n",
              "      <td>80</td>\n",
              "      <td>10232</td>\n",
              "    </tr>\n",
              "    <tr>\n",
              "      <th>3</th>\n",
              "      <td>2016-01-01 04:00:00</td>\n",
              "      <td>1</td>\n",
              "      <td>4</td>\n",
              "      <td>36</td>\n",
              "      <td>96</td>\n",
              "      <td>4.2</td>\n",
              "      <td>0.96</td>\n",
              "      <td>0</td>\n",
              "      <td>0</td>\n",
              "      <td>20</td>\n",
              "      <td>40</td>\n",
              "      <td>10237</td>\n",
              "    </tr>\n",
              "    <tr>\n",
              "      <th>4</th>\n",
              "      <td>2016-01-01 05:00:00</td>\n",
              "      <td>1</td>\n",
              "      <td>5</td>\n",
              "      <td>37</td>\n",
              "      <td>98</td>\n",
              "      <td>4.0</td>\n",
              "      <td>0.98</td>\n",
              "      <td>0</td>\n",
              "      <td>0</td>\n",
              "      <td>20</td>\n",
              "      <td>30</td>\n",
              "      <td>10240</td>\n",
              "    </tr>\n",
              "    <tr>\n",
              "      <th>...</th>\n",
              "      <td>...</td>\n",
              "      <td>...</td>\n",
              "      <td>...</td>\n",
              "      <td>...</td>\n",
              "      <td>...</td>\n",
              "      <td>...</td>\n",
              "      <td>...</td>\n",
              "      <td>...</td>\n",
              "      <td>...</td>\n",
              "      <td>...</td>\n",
              "      <td>...</td>\n",
              "      <td>...</td>\n",
              "    </tr>\n",
              "    <tr>\n",
              "      <th>26298</th>\n",
              "      <td>2018-12-31 19:00:00</td>\n",
              "      <td>12</td>\n",
              "      <td>19</td>\n",
              "      <td>78</td>\n",
              "      <td>93</td>\n",
              "      <td>8.7</td>\n",
              "      <td>0.93</td>\n",
              "      <td>0</td>\n",
              "      <td>0</td>\n",
              "      <td>30</td>\n",
              "      <td>60</td>\n",
              "      <td>10341</td>\n",
              "    </tr>\n",
              "    <tr>\n",
              "      <th>26299</th>\n",
              "      <td>2018-12-31 20:00:00</td>\n",
              "      <td>12</td>\n",
              "      <td>20</td>\n",
              "      <td>74</td>\n",
              "      <td>92</td>\n",
              "      <td>8.5</td>\n",
              "      <td>0.92</td>\n",
              "      <td>0</td>\n",
              "      <td>0</td>\n",
              "      <td>30</td>\n",
              "      <td>50</td>\n",
              "      <td>10338</td>\n",
              "    </tr>\n",
              "    <tr>\n",
              "      <th>26300</th>\n",
              "      <td>2018-12-31 21:00:00</td>\n",
              "      <td>12</td>\n",
              "      <td>21</td>\n",
              "      <td>66</td>\n",
              "      <td>89</td>\n",
              "      <td>8.2</td>\n",
              "      <td>0.89</td>\n",
              "      <td>0</td>\n",
              "      <td>0</td>\n",
              "      <td>40</td>\n",
              "      <td>60</td>\n",
              "      <td>10336</td>\n",
              "    </tr>\n",
              "    <tr>\n",
              "      <th>26301</th>\n",
              "      <td>2018-12-31 22:00:00</td>\n",
              "      <td>12</td>\n",
              "      <td>22</td>\n",
              "      <td>68</td>\n",
              "      <td>94</td>\n",
              "      <td>7.6</td>\n",
              "      <td>0.94</td>\n",
              "      <td>0</td>\n",
              "      <td>0</td>\n",
              "      <td>40</td>\n",
              "      <td>70</td>\n",
              "      <td>10332</td>\n",
              "    </tr>\n",
              "    <tr>\n",
              "      <th>26302</th>\n",
              "      <td>2018-12-31 23:00:00</td>\n",
              "      <td>12</td>\n",
              "      <td>23</td>\n",
              "      <td>67</td>\n",
              "      <td>94</td>\n",
              "      <td>7.6</td>\n",
              "      <td>0.94</td>\n",
              "      <td>0</td>\n",
              "      <td>7</td>\n",
              "      <td>40</td>\n",
              "      <td>60</td>\n",
              "      <td>10333</td>\n",
              "    </tr>\n",
              "  </tbody>\n",
              "</table>\n",
              "<p>26303 rows × 12 columns</p>\n",
              "</div>\n",
              "      <button class=\"colab-df-convert\" onclick=\"convertToInteractive('df-57d8a7e9-8dd9-45d0-bcde-a2ee9879baf8')\"\n",
              "              title=\"Convert this dataframe to an interactive table.\"\n",
              "              style=\"display:none;\">\n",
              "        \n",
              "  <svg xmlns=\"http://www.w3.org/2000/svg\" height=\"24px\"viewBox=\"0 0 24 24\"\n",
              "       width=\"24px\">\n",
              "    <path d=\"M0 0h24v24H0V0z\" fill=\"none\"/>\n",
              "    <path d=\"M18.56 5.44l.94 2.06.94-2.06 2.06-.94-2.06-.94-.94-2.06-.94 2.06-2.06.94zm-11 1L8.5 8.5l.94-2.06 2.06-.94-2.06-.94L8.5 2.5l-.94 2.06-2.06.94zm10 10l.94 2.06.94-2.06 2.06-.94-2.06-.94-.94-2.06-.94 2.06-2.06.94z\"/><path d=\"M17.41 7.96l-1.37-1.37c-.4-.4-.92-.59-1.43-.59-.52 0-1.04.2-1.43.59L10.3 9.45l-7.72 7.72c-.78.78-.78 2.05 0 2.83L4 21.41c.39.39.9.59 1.41.59.51 0 1.02-.2 1.41-.59l7.78-7.78 2.81-2.81c.8-.78.8-2.07 0-2.86zM5.41 20L4 18.59l7.72-7.72 1.47 1.35L5.41 20z\"/>\n",
              "  </svg>\n",
              "      </button>\n",
              "      \n",
              "  <style>\n",
              "    .colab-df-container {\n",
              "      display:flex;\n",
              "      flex-wrap:wrap;\n",
              "      gap: 12px;\n",
              "    }\n",
              "\n",
              "    .colab-df-convert {\n",
              "      background-color: #E8F0FE;\n",
              "      border: none;\n",
              "      border-radius: 50%;\n",
              "      cursor: pointer;\n",
              "      display: none;\n",
              "      fill: #1967D2;\n",
              "      height: 32px;\n",
              "      padding: 0 0 0 0;\n",
              "      width: 32px;\n",
              "    }\n",
              "\n",
              "    .colab-df-convert:hover {\n",
              "      background-color: #E2EBFA;\n",
              "      box-shadow: 0px 1px 2px rgba(60, 64, 67, 0.3), 0px 1px 3px 1px rgba(60, 64, 67, 0.15);\n",
              "      fill: #174EA6;\n",
              "    }\n",
              "\n",
              "    [theme=dark] .colab-df-convert {\n",
              "      background-color: #3B4455;\n",
              "      fill: #D2E3FC;\n",
              "    }\n",
              "\n",
              "    [theme=dark] .colab-df-convert:hover {\n",
              "      background-color: #434B5C;\n",
              "      box-shadow: 0px 1px 3px 1px rgba(0, 0, 0, 0.15);\n",
              "      filter: drop-shadow(0px 1px 2px rgba(0, 0, 0, 0.3));\n",
              "      fill: #FFFFFF;\n",
              "    }\n",
              "  </style>\n",
              "\n",
              "      <script>\n",
              "        const buttonEl =\n",
              "          document.querySelector('#df-57d8a7e9-8dd9-45d0-bcde-a2ee9879baf8 button.colab-df-convert');\n",
              "        buttonEl.style.display =\n",
              "          google.colab.kernel.accessAllowed ? 'block' : 'none';\n",
              "\n",
              "        async function convertToInteractive(key) {\n",
              "          const element = document.querySelector('#df-57d8a7e9-8dd9-45d0-bcde-a2ee9879baf8');\n",
              "          const dataTable =\n",
              "            await google.colab.kernel.invokeFunction('convertToInteractive',\n",
              "                                                     [key], {});\n",
              "          if (!dataTable) return;\n",
              "\n",
              "          const docLinkHtml = 'Like what you see? Visit the ' +\n",
              "            '<a target=\"_blank\" href=https://colab.research.google.com/notebooks/data_table.ipynb>data table notebook</a>'\n",
              "            + ' to learn more about interactive tables.';\n",
              "          element.innerHTML = '';\n",
              "          dataTable['output_type'] = 'display_data';\n",
              "          await google.colab.output.renderOutput(dataTable, element);\n",
              "          const docLink = document.createElement('div');\n",
              "          docLink.innerHTML = docLinkHtml;\n",
              "          element.appendChild(docLink);\n",
              "        }\n",
              "      </script>\n",
              "    </div>\n",
              "  </div>\n",
              "  "
            ]
          },
          "metadata": {},
          "execution_count": 7
        }
      ]
    },
    {
      "cell_type": "code",
      "metadata": {
        "id": "xznhgX88jCbg",
        "colab": {
          "base_uri": "https://localhost:8080/",
          "height": 455
        },
        "outputId": "daee1af9-fe57-4be5-8cc6-055c49f69f30"
      },
      "source": [
        "#Set the Time column as index\n",
        "knmi = knmi.set_index(\"Time\")\n",
        "knmi"
      ],
      "execution_count": null,
      "outputs": [
        {
          "output_type": "execute_result",
          "data": {
            "text/plain": [
              "                     month  HH  TD   U  Temp    RH  Q  DR  FF  FX      P\n",
              "Time                                                                    \n",
              "2016-01-01 01:00:00      1   1  38  82   6.6  0.82  0   0  30  70  10224\n",
              "2016-01-01 02:00:00      1   2  43  83   7.0  0.83  0   0  40  80  10228\n",
              "2016-01-01 03:00:00      1   3  46  91   5.9  0.91  0   0  30  80  10232\n",
              "2016-01-01 04:00:00      1   4  36  96   4.2  0.96  0   0  20  40  10237\n",
              "2016-01-01 05:00:00      1   5  37  98   4.0  0.98  0   0  20  30  10240\n",
              "...                    ...  ..  ..  ..   ...   ... ..  ..  ..  ..    ...\n",
              "2018-12-31 19:00:00     12  19  78  93   8.7  0.93  0   0  30  60  10341\n",
              "2018-12-31 20:00:00     12  20  74  92   8.5  0.92  0   0  30  50  10338\n",
              "2018-12-31 21:00:00     12  21  66  89   8.2  0.89  0   0  40  60  10336\n",
              "2018-12-31 22:00:00     12  22  68  94   7.6  0.94  0   0  40  70  10332\n",
              "2018-12-31 23:00:00     12  23  67  94   7.6  0.94  0   7  40  60  10333\n",
              "\n",
              "[26303 rows x 11 columns]"
            ],
            "text/html": [
              "\n",
              "  <div id=\"df-30f6a399-48a5-4bde-b180-4d7762b632a4\">\n",
              "    <div class=\"colab-df-container\">\n",
              "      <div>\n",
              "<style scoped>\n",
              "    .dataframe tbody tr th:only-of-type {\n",
              "        vertical-align: middle;\n",
              "    }\n",
              "\n",
              "    .dataframe tbody tr th {\n",
              "        vertical-align: top;\n",
              "    }\n",
              "\n",
              "    .dataframe thead th {\n",
              "        text-align: right;\n",
              "    }\n",
              "</style>\n",
              "<table border=\"1\" class=\"dataframe\">\n",
              "  <thead>\n",
              "    <tr style=\"text-align: right;\">\n",
              "      <th></th>\n",
              "      <th>month</th>\n",
              "      <th>HH</th>\n",
              "      <th>TD</th>\n",
              "      <th>U</th>\n",
              "      <th>Temp</th>\n",
              "      <th>RH</th>\n",
              "      <th>Q</th>\n",
              "      <th>DR</th>\n",
              "      <th>FF</th>\n",
              "      <th>FX</th>\n",
              "      <th>P</th>\n",
              "    </tr>\n",
              "    <tr>\n",
              "      <th>Time</th>\n",
              "      <th></th>\n",
              "      <th></th>\n",
              "      <th></th>\n",
              "      <th></th>\n",
              "      <th></th>\n",
              "      <th></th>\n",
              "      <th></th>\n",
              "      <th></th>\n",
              "      <th></th>\n",
              "      <th></th>\n",
              "      <th></th>\n",
              "    </tr>\n",
              "  </thead>\n",
              "  <tbody>\n",
              "    <tr>\n",
              "      <th>2016-01-01 01:00:00</th>\n",
              "      <td>1</td>\n",
              "      <td>1</td>\n",
              "      <td>38</td>\n",
              "      <td>82</td>\n",
              "      <td>6.6</td>\n",
              "      <td>0.82</td>\n",
              "      <td>0</td>\n",
              "      <td>0</td>\n",
              "      <td>30</td>\n",
              "      <td>70</td>\n",
              "      <td>10224</td>\n",
              "    </tr>\n",
              "    <tr>\n",
              "      <th>2016-01-01 02:00:00</th>\n",
              "      <td>1</td>\n",
              "      <td>2</td>\n",
              "      <td>43</td>\n",
              "      <td>83</td>\n",
              "      <td>7.0</td>\n",
              "      <td>0.83</td>\n",
              "      <td>0</td>\n",
              "      <td>0</td>\n",
              "      <td>40</td>\n",
              "      <td>80</td>\n",
              "      <td>10228</td>\n",
              "    </tr>\n",
              "    <tr>\n",
              "      <th>2016-01-01 03:00:00</th>\n",
              "      <td>1</td>\n",
              "      <td>3</td>\n",
              "      <td>46</td>\n",
              "      <td>91</td>\n",
              "      <td>5.9</td>\n",
              "      <td>0.91</td>\n",
              "      <td>0</td>\n",
              "      <td>0</td>\n",
              "      <td>30</td>\n",
              "      <td>80</td>\n",
              "      <td>10232</td>\n",
              "    </tr>\n",
              "    <tr>\n",
              "      <th>2016-01-01 04:00:00</th>\n",
              "      <td>1</td>\n",
              "      <td>4</td>\n",
              "      <td>36</td>\n",
              "      <td>96</td>\n",
              "      <td>4.2</td>\n",
              "      <td>0.96</td>\n",
              "      <td>0</td>\n",
              "      <td>0</td>\n",
              "      <td>20</td>\n",
              "      <td>40</td>\n",
              "      <td>10237</td>\n",
              "    </tr>\n",
              "    <tr>\n",
              "      <th>2016-01-01 05:00:00</th>\n",
              "      <td>1</td>\n",
              "      <td>5</td>\n",
              "      <td>37</td>\n",
              "      <td>98</td>\n",
              "      <td>4.0</td>\n",
              "      <td>0.98</td>\n",
              "      <td>0</td>\n",
              "      <td>0</td>\n",
              "      <td>20</td>\n",
              "      <td>30</td>\n",
              "      <td>10240</td>\n",
              "    </tr>\n",
              "    <tr>\n",
              "      <th>...</th>\n",
              "      <td>...</td>\n",
              "      <td>...</td>\n",
              "      <td>...</td>\n",
              "      <td>...</td>\n",
              "      <td>...</td>\n",
              "      <td>...</td>\n",
              "      <td>...</td>\n",
              "      <td>...</td>\n",
              "      <td>...</td>\n",
              "      <td>...</td>\n",
              "      <td>...</td>\n",
              "    </tr>\n",
              "    <tr>\n",
              "      <th>2018-12-31 19:00:00</th>\n",
              "      <td>12</td>\n",
              "      <td>19</td>\n",
              "      <td>78</td>\n",
              "      <td>93</td>\n",
              "      <td>8.7</td>\n",
              "      <td>0.93</td>\n",
              "      <td>0</td>\n",
              "      <td>0</td>\n",
              "      <td>30</td>\n",
              "      <td>60</td>\n",
              "      <td>10341</td>\n",
              "    </tr>\n",
              "    <tr>\n",
              "      <th>2018-12-31 20:00:00</th>\n",
              "      <td>12</td>\n",
              "      <td>20</td>\n",
              "      <td>74</td>\n",
              "      <td>92</td>\n",
              "      <td>8.5</td>\n",
              "      <td>0.92</td>\n",
              "      <td>0</td>\n",
              "      <td>0</td>\n",
              "      <td>30</td>\n",
              "      <td>50</td>\n",
              "      <td>10338</td>\n",
              "    </tr>\n",
              "    <tr>\n",
              "      <th>2018-12-31 21:00:00</th>\n",
              "      <td>12</td>\n",
              "      <td>21</td>\n",
              "      <td>66</td>\n",
              "      <td>89</td>\n",
              "      <td>8.2</td>\n",
              "      <td>0.89</td>\n",
              "      <td>0</td>\n",
              "      <td>0</td>\n",
              "      <td>40</td>\n",
              "      <td>60</td>\n",
              "      <td>10336</td>\n",
              "    </tr>\n",
              "    <tr>\n",
              "      <th>2018-12-31 22:00:00</th>\n",
              "      <td>12</td>\n",
              "      <td>22</td>\n",
              "      <td>68</td>\n",
              "      <td>94</td>\n",
              "      <td>7.6</td>\n",
              "      <td>0.94</td>\n",
              "      <td>0</td>\n",
              "      <td>0</td>\n",
              "      <td>40</td>\n",
              "      <td>70</td>\n",
              "      <td>10332</td>\n",
              "    </tr>\n",
              "    <tr>\n",
              "      <th>2018-12-31 23:00:00</th>\n",
              "      <td>12</td>\n",
              "      <td>23</td>\n",
              "      <td>67</td>\n",
              "      <td>94</td>\n",
              "      <td>7.6</td>\n",
              "      <td>0.94</td>\n",
              "      <td>0</td>\n",
              "      <td>7</td>\n",
              "      <td>40</td>\n",
              "      <td>60</td>\n",
              "      <td>10333</td>\n",
              "    </tr>\n",
              "  </tbody>\n",
              "</table>\n",
              "<p>26303 rows × 11 columns</p>\n",
              "</div>\n",
              "      <button class=\"colab-df-convert\" onclick=\"convertToInteractive('df-30f6a399-48a5-4bde-b180-4d7762b632a4')\"\n",
              "              title=\"Convert this dataframe to an interactive table.\"\n",
              "              style=\"display:none;\">\n",
              "        \n",
              "  <svg xmlns=\"http://www.w3.org/2000/svg\" height=\"24px\"viewBox=\"0 0 24 24\"\n",
              "       width=\"24px\">\n",
              "    <path d=\"M0 0h24v24H0V0z\" fill=\"none\"/>\n",
              "    <path d=\"M18.56 5.44l.94 2.06.94-2.06 2.06-.94-2.06-.94-.94-2.06-.94 2.06-2.06.94zm-11 1L8.5 8.5l.94-2.06 2.06-.94-2.06-.94L8.5 2.5l-.94 2.06-2.06.94zm10 10l.94 2.06.94-2.06 2.06-.94-2.06-.94-.94-2.06-.94 2.06-2.06.94z\"/><path d=\"M17.41 7.96l-1.37-1.37c-.4-.4-.92-.59-1.43-.59-.52 0-1.04.2-1.43.59L10.3 9.45l-7.72 7.72c-.78.78-.78 2.05 0 2.83L4 21.41c.39.39.9.59 1.41.59.51 0 1.02-.2 1.41-.59l7.78-7.78 2.81-2.81c.8-.78.8-2.07 0-2.86zM5.41 20L4 18.59l7.72-7.72 1.47 1.35L5.41 20z\"/>\n",
              "  </svg>\n",
              "      </button>\n",
              "      \n",
              "  <style>\n",
              "    .colab-df-container {\n",
              "      display:flex;\n",
              "      flex-wrap:wrap;\n",
              "      gap: 12px;\n",
              "    }\n",
              "\n",
              "    .colab-df-convert {\n",
              "      background-color: #E8F0FE;\n",
              "      border: none;\n",
              "      border-radius: 50%;\n",
              "      cursor: pointer;\n",
              "      display: none;\n",
              "      fill: #1967D2;\n",
              "      height: 32px;\n",
              "      padding: 0 0 0 0;\n",
              "      width: 32px;\n",
              "    }\n",
              "\n",
              "    .colab-df-convert:hover {\n",
              "      background-color: #E2EBFA;\n",
              "      box-shadow: 0px 1px 2px rgba(60, 64, 67, 0.3), 0px 1px 3px 1px rgba(60, 64, 67, 0.15);\n",
              "      fill: #174EA6;\n",
              "    }\n",
              "\n",
              "    [theme=dark] .colab-df-convert {\n",
              "      background-color: #3B4455;\n",
              "      fill: #D2E3FC;\n",
              "    }\n",
              "\n",
              "    [theme=dark] .colab-df-convert:hover {\n",
              "      background-color: #434B5C;\n",
              "      box-shadow: 0px 1px 3px 1px rgba(0, 0, 0, 0.15);\n",
              "      filter: drop-shadow(0px 1px 2px rgba(0, 0, 0, 0.3));\n",
              "      fill: #FFFFFF;\n",
              "    }\n",
              "  </style>\n",
              "\n",
              "      <script>\n",
              "        const buttonEl =\n",
              "          document.querySelector('#df-30f6a399-48a5-4bde-b180-4d7762b632a4 button.colab-df-convert');\n",
              "        buttonEl.style.display =\n",
              "          google.colab.kernel.accessAllowed ? 'block' : 'none';\n",
              "\n",
              "        async function convertToInteractive(key) {\n",
              "          const element = document.querySelector('#df-30f6a399-48a5-4bde-b180-4d7762b632a4');\n",
              "          const dataTable =\n",
              "            await google.colab.kernel.invokeFunction('convertToInteractive',\n",
              "                                                     [key], {});\n",
              "          if (!dataTable) return;\n",
              "\n",
              "          const docLinkHtml = 'Like what you see? Visit the ' +\n",
              "            '<a target=\"_blank\" href=https://colab.research.google.com/notebooks/data_table.ipynb>data table notebook</a>'\n",
              "            + ' to learn more about interactive tables.';\n",
              "          element.innerHTML = '';\n",
              "          dataTable['output_type'] = 'display_data';\n",
              "          await google.colab.output.renderOutput(dataTable, element);\n",
              "          const docLink = document.createElement('div');\n",
              "          docLink.innerHTML = docLinkHtml;\n",
              "          element.appendChild(docLink);\n",
              "        }\n",
              "      </script>\n",
              "    </div>\n",
              "  </div>\n",
              "  "
            ]
          },
          "metadata": {},
          "execution_count": 8
        }
      ]
    },
    {
      "cell_type": "code",
      "metadata": {
        "id": "YNDaM0Z9wndL",
        "colab": {
          "base_uri": "https://localhost:8080/",
          "height": 455
        },
        "outputId": "4634ae4d-88e3-4d0d-d0ce-b910ab475b8f"
      },
      "source": [
        "#concatenating the datasets of weather data and electricity consumption\n",
        "df = pd.concat([knmi, Energy], axis=1) #axis =1 for considering the columns\n",
        "df\n",
        "\n",
        "\n"
      ],
      "execution_count": null,
      "outputs": [
        {
          "output_type": "execute_result",
          "data": {
            "text/plain": [
              "                     month  HH  TD   U  Temp    RH  Q  DR  FF  FX      P  \\\n",
              "Time                                                                       \n",
              "2016-01-01 01:00:00      1   1  38  82   6.6  0.82  0   0  30  70  10224   \n",
              "2016-01-01 02:00:00      1   2  43  83   7.0  0.83  0   0  40  80  10228   \n",
              "2016-01-01 03:00:00      1   3  46  91   5.9  0.91  0   0  30  80  10232   \n",
              "2016-01-01 04:00:00      1   4  36  96   4.2  0.96  0   0  20  40  10237   \n",
              "2016-01-01 05:00:00      1   5  37  98   4.0  0.98  0   0  20  30  10240   \n",
              "...                    ...  ..  ..  ..   ...   ... ..  ..  ..  ..    ...   \n",
              "2018-12-31 19:00:00     12  19  78  93   8.7  0.93  0   0  30  60  10341   \n",
              "2018-12-31 20:00:00     12  20  74  92   8.5  0.92  0   0  30  50  10338   \n",
              "2018-12-31 21:00:00     12  21  66  89   8.2  0.89  0   0  40  60  10336   \n",
              "2018-12-31 22:00:00     12  22  68  94   7.6  0.94  0   0  40  70  10332   \n",
              "2018-12-31 23:00:00     12  23  67  94   7.6  0.94  0   7  40  60  10333   \n",
              "\n",
              "                     building 41  \n",
              "Time                              \n",
              "2016-01-01 01:00:00    23.783228  \n",
              "2016-01-01 02:00:00    23.783228  \n",
              "2016-01-01 03:00:00    23.783228  \n",
              "2016-01-01 04:00:00    23.783228  \n",
              "2016-01-01 05:00:00    23.783228  \n",
              "...                          ...  \n",
              "2018-12-31 19:00:00    18.602723  \n",
              "2018-12-31 20:00:00    18.838200  \n",
              "2018-12-31 21:00:00    18.602723  \n",
              "2018-12-31 22:00:00    18.131768  \n",
              "2018-12-31 23:00:00    18.602723  \n",
              "\n",
              "[26303 rows x 12 columns]"
            ],
            "text/html": [
              "\n",
              "  <div id=\"df-3ea5d4c9-f8d0-43b8-b97a-ec0c887db8f4\">\n",
              "    <div class=\"colab-df-container\">\n",
              "      <div>\n",
              "<style scoped>\n",
              "    .dataframe tbody tr th:only-of-type {\n",
              "        vertical-align: middle;\n",
              "    }\n",
              "\n",
              "    .dataframe tbody tr th {\n",
              "        vertical-align: top;\n",
              "    }\n",
              "\n",
              "    .dataframe thead th {\n",
              "        text-align: right;\n",
              "    }\n",
              "</style>\n",
              "<table border=\"1\" class=\"dataframe\">\n",
              "  <thead>\n",
              "    <tr style=\"text-align: right;\">\n",
              "      <th></th>\n",
              "      <th>month</th>\n",
              "      <th>HH</th>\n",
              "      <th>TD</th>\n",
              "      <th>U</th>\n",
              "      <th>Temp</th>\n",
              "      <th>RH</th>\n",
              "      <th>Q</th>\n",
              "      <th>DR</th>\n",
              "      <th>FF</th>\n",
              "      <th>FX</th>\n",
              "      <th>P</th>\n",
              "      <th>building 41</th>\n",
              "    </tr>\n",
              "    <tr>\n",
              "      <th>Time</th>\n",
              "      <th></th>\n",
              "      <th></th>\n",
              "      <th></th>\n",
              "      <th></th>\n",
              "      <th></th>\n",
              "      <th></th>\n",
              "      <th></th>\n",
              "      <th></th>\n",
              "      <th></th>\n",
              "      <th></th>\n",
              "      <th></th>\n",
              "      <th></th>\n",
              "    </tr>\n",
              "  </thead>\n",
              "  <tbody>\n",
              "    <tr>\n",
              "      <th>2016-01-01 01:00:00</th>\n",
              "      <td>1</td>\n",
              "      <td>1</td>\n",
              "      <td>38</td>\n",
              "      <td>82</td>\n",
              "      <td>6.6</td>\n",
              "      <td>0.82</td>\n",
              "      <td>0</td>\n",
              "      <td>0</td>\n",
              "      <td>30</td>\n",
              "      <td>70</td>\n",
              "      <td>10224</td>\n",
              "      <td>23.783228</td>\n",
              "    </tr>\n",
              "    <tr>\n",
              "      <th>2016-01-01 02:00:00</th>\n",
              "      <td>1</td>\n",
              "      <td>2</td>\n",
              "      <td>43</td>\n",
              "      <td>83</td>\n",
              "      <td>7.0</td>\n",
              "      <td>0.83</td>\n",
              "      <td>0</td>\n",
              "      <td>0</td>\n",
              "      <td>40</td>\n",
              "      <td>80</td>\n",
              "      <td>10228</td>\n",
              "      <td>23.783228</td>\n",
              "    </tr>\n",
              "    <tr>\n",
              "      <th>2016-01-01 03:00:00</th>\n",
              "      <td>1</td>\n",
              "      <td>3</td>\n",
              "      <td>46</td>\n",
              "      <td>91</td>\n",
              "      <td>5.9</td>\n",
              "      <td>0.91</td>\n",
              "      <td>0</td>\n",
              "      <td>0</td>\n",
              "      <td>30</td>\n",
              "      <td>80</td>\n",
              "      <td>10232</td>\n",
              "      <td>23.783228</td>\n",
              "    </tr>\n",
              "    <tr>\n",
              "      <th>2016-01-01 04:00:00</th>\n",
              "      <td>1</td>\n",
              "      <td>4</td>\n",
              "      <td>36</td>\n",
              "      <td>96</td>\n",
              "      <td>4.2</td>\n",
              "      <td>0.96</td>\n",
              "      <td>0</td>\n",
              "      <td>0</td>\n",
              "      <td>20</td>\n",
              "      <td>40</td>\n",
              "      <td>10237</td>\n",
              "      <td>23.783228</td>\n",
              "    </tr>\n",
              "    <tr>\n",
              "      <th>2016-01-01 05:00:00</th>\n",
              "      <td>1</td>\n",
              "      <td>5</td>\n",
              "      <td>37</td>\n",
              "      <td>98</td>\n",
              "      <td>4.0</td>\n",
              "      <td>0.98</td>\n",
              "      <td>0</td>\n",
              "      <td>0</td>\n",
              "      <td>20</td>\n",
              "      <td>30</td>\n",
              "      <td>10240</td>\n",
              "      <td>23.783228</td>\n",
              "    </tr>\n",
              "    <tr>\n",
              "      <th>...</th>\n",
              "      <td>...</td>\n",
              "      <td>...</td>\n",
              "      <td>...</td>\n",
              "      <td>...</td>\n",
              "      <td>...</td>\n",
              "      <td>...</td>\n",
              "      <td>...</td>\n",
              "      <td>...</td>\n",
              "      <td>...</td>\n",
              "      <td>...</td>\n",
              "      <td>...</td>\n",
              "      <td>...</td>\n",
              "    </tr>\n",
              "    <tr>\n",
              "      <th>2018-12-31 19:00:00</th>\n",
              "      <td>12</td>\n",
              "      <td>19</td>\n",
              "      <td>78</td>\n",
              "      <td>93</td>\n",
              "      <td>8.7</td>\n",
              "      <td>0.93</td>\n",
              "      <td>0</td>\n",
              "      <td>0</td>\n",
              "      <td>30</td>\n",
              "      <td>60</td>\n",
              "      <td>10341</td>\n",
              "      <td>18.602723</td>\n",
              "    </tr>\n",
              "    <tr>\n",
              "      <th>2018-12-31 20:00:00</th>\n",
              "      <td>12</td>\n",
              "      <td>20</td>\n",
              "      <td>74</td>\n",
              "      <td>92</td>\n",
              "      <td>8.5</td>\n",
              "      <td>0.92</td>\n",
              "      <td>0</td>\n",
              "      <td>0</td>\n",
              "      <td>30</td>\n",
              "      <td>50</td>\n",
              "      <td>10338</td>\n",
              "      <td>18.838200</td>\n",
              "    </tr>\n",
              "    <tr>\n",
              "      <th>2018-12-31 21:00:00</th>\n",
              "      <td>12</td>\n",
              "      <td>21</td>\n",
              "      <td>66</td>\n",
              "      <td>89</td>\n",
              "      <td>8.2</td>\n",
              "      <td>0.89</td>\n",
              "      <td>0</td>\n",
              "      <td>0</td>\n",
              "      <td>40</td>\n",
              "      <td>60</td>\n",
              "      <td>10336</td>\n",
              "      <td>18.602723</td>\n",
              "    </tr>\n",
              "    <tr>\n",
              "      <th>2018-12-31 22:00:00</th>\n",
              "      <td>12</td>\n",
              "      <td>22</td>\n",
              "      <td>68</td>\n",
              "      <td>94</td>\n",
              "      <td>7.6</td>\n",
              "      <td>0.94</td>\n",
              "      <td>0</td>\n",
              "      <td>0</td>\n",
              "      <td>40</td>\n",
              "      <td>70</td>\n",
              "      <td>10332</td>\n",
              "      <td>18.131768</td>\n",
              "    </tr>\n",
              "    <tr>\n",
              "      <th>2018-12-31 23:00:00</th>\n",
              "      <td>12</td>\n",
              "      <td>23</td>\n",
              "      <td>67</td>\n",
              "      <td>94</td>\n",
              "      <td>7.6</td>\n",
              "      <td>0.94</td>\n",
              "      <td>0</td>\n",
              "      <td>7</td>\n",
              "      <td>40</td>\n",
              "      <td>60</td>\n",
              "      <td>10333</td>\n",
              "      <td>18.602723</td>\n",
              "    </tr>\n",
              "  </tbody>\n",
              "</table>\n",
              "<p>26303 rows × 12 columns</p>\n",
              "</div>\n",
              "      <button class=\"colab-df-convert\" onclick=\"convertToInteractive('df-3ea5d4c9-f8d0-43b8-b97a-ec0c887db8f4')\"\n",
              "              title=\"Convert this dataframe to an interactive table.\"\n",
              "              style=\"display:none;\">\n",
              "        \n",
              "  <svg xmlns=\"http://www.w3.org/2000/svg\" height=\"24px\"viewBox=\"0 0 24 24\"\n",
              "       width=\"24px\">\n",
              "    <path d=\"M0 0h24v24H0V0z\" fill=\"none\"/>\n",
              "    <path d=\"M18.56 5.44l.94 2.06.94-2.06 2.06-.94-2.06-.94-.94-2.06-.94 2.06-2.06.94zm-11 1L8.5 8.5l.94-2.06 2.06-.94-2.06-.94L8.5 2.5l-.94 2.06-2.06.94zm10 10l.94 2.06.94-2.06 2.06-.94-2.06-.94-.94-2.06-.94 2.06-2.06.94z\"/><path d=\"M17.41 7.96l-1.37-1.37c-.4-.4-.92-.59-1.43-.59-.52 0-1.04.2-1.43.59L10.3 9.45l-7.72 7.72c-.78.78-.78 2.05 0 2.83L4 21.41c.39.39.9.59 1.41.59.51 0 1.02-.2 1.41-.59l7.78-7.78 2.81-2.81c.8-.78.8-2.07 0-2.86zM5.41 20L4 18.59l7.72-7.72 1.47 1.35L5.41 20z\"/>\n",
              "  </svg>\n",
              "      </button>\n",
              "      \n",
              "  <style>\n",
              "    .colab-df-container {\n",
              "      display:flex;\n",
              "      flex-wrap:wrap;\n",
              "      gap: 12px;\n",
              "    }\n",
              "\n",
              "    .colab-df-convert {\n",
              "      background-color: #E8F0FE;\n",
              "      border: none;\n",
              "      border-radius: 50%;\n",
              "      cursor: pointer;\n",
              "      display: none;\n",
              "      fill: #1967D2;\n",
              "      height: 32px;\n",
              "      padding: 0 0 0 0;\n",
              "      width: 32px;\n",
              "    }\n",
              "\n",
              "    .colab-df-convert:hover {\n",
              "      background-color: #E2EBFA;\n",
              "      box-shadow: 0px 1px 2px rgba(60, 64, 67, 0.3), 0px 1px 3px 1px rgba(60, 64, 67, 0.15);\n",
              "      fill: #174EA6;\n",
              "    }\n",
              "\n",
              "    [theme=dark] .colab-df-convert {\n",
              "      background-color: #3B4455;\n",
              "      fill: #D2E3FC;\n",
              "    }\n",
              "\n",
              "    [theme=dark] .colab-df-convert:hover {\n",
              "      background-color: #434B5C;\n",
              "      box-shadow: 0px 1px 3px 1px rgba(0, 0, 0, 0.15);\n",
              "      filter: drop-shadow(0px 1px 2px rgba(0, 0, 0, 0.3));\n",
              "      fill: #FFFFFF;\n",
              "    }\n",
              "  </style>\n",
              "\n",
              "      <script>\n",
              "        const buttonEl =\n",
              "          document.querySelector('#df-3ea5d4c9-f8d0-43b8-b97a-ec0c887db8f4 button.colab-df-convert');\n",
              "        buttonEl.style.display =\n",
              "          google.colab.kernel.accessAllowed ? 'block' : 'none';\n",
              "\n",
              "        async function convertToInteractive(key) {\n",
              "          const element = document.querySelector('#df-3ea5d4c9-f8d0-43b8-b97a-ec0c887db8f4');\n",
              "          const dataTable =\n",
              "            await google.colab.kernel.invokeFunction('convertToInteractive',\n",
              "                                                     [key], {});\n",
              "          if (!dataTable) return;\n",
              "\n",
              "          const docLinkHtml = 'Like what you see? Visit the ' +\n",
              "            '<a target=\"_blank\" href=https://colab.research.google.com/notebooks/data_table.ipynb>data table notebook</a>'\n",
              "            + ' to learn more about interactive tables.';\n",
              "          element.innerHTML = '';\n",
              "          dataTable['output_type'] = 'display_data';\n",
              "          await google.colab.output.renderOutput(dataTable, element);\n",
              "          const docLink = document.createElement('div');\n",
              "          docLink.innerHTML = docLinkHtml;\n",
              "          element.appendChild(docLink);\n",
              "        }\n",
              "      </script>\n",
              "    </div>\n",
              "  </div>\n",
              "  "
            ]
          },
          "metadata": {},
          "execution_count": 9
        }
      ]
    },
    {
      "cell_type": "code",
      "metadata": {
        "id": "ipKurfIOxWKd",
        "colab": {
          "base_uri": "https://localhost:8080/"
        },
        "outputId": "ca255ed5-5573-4ae6-c475-3b599546aeec"
      },
      "source": [
        "# check missing data status\n",
        "df.isna().sum()"
      ],
      "execution_count": null,
      "outputs": [
        {
          "output_type": "execute_result",
          "data": {
            "text/plain": [
              "month          0\n",
              "HH             0\n",
              "TD             0\n",
              "U              0\n",
              "Temp           0\n",
              "RH             0\n",
              "Q              0\n",
              "DR             0\n",
              "FF             0\n",
              "FX             0\n",
              "P              0\n",
              "building 41    0\n",
              "dtype: int64"
            ]
          },
          "metadata": {},
          "execution_count": 10
        }
      ]
    },
    {
      "cell_type": "code",
      "metadata": {
        "id": "q59dt7sdwF5o",
        "colab": {
          "base_uri": "https://localhost:8080/",
          "height": 460
        },
        "outputId": "883ebc46-c520-4b87-976f-9cb641a5d9f5"
      },
      "source": [
        "# cross check the availability of the data with missingno library\n",
        "import missingno as msno\n",
        "msno.bar(df)"
      ],
      "execution_count": null,
      "outputs": [
        {
          "output_type": "execute_result",
          "data": {
            "text/plain": [
              "<matplotlib.axes._subplots.AxesSubplot at 0x7ff2ad099a50>"
            ]
          },
          "metadata": {},
          "execution_count": 11
        },
        {
          "output_type": "display_data",
          "data": {
            "text/plain": [
              "<Figure size 1800x720 with 3 Axes>"
            ],
            "image/png": "[encoded data removed]"
          },
          "metadata": {
            "needs_background": "light"
          }
        }
      ]
    },
    {
      "cell_type": "code",
      "metadata": {
        "id": "OaZQokvXwF21",
        "colab": {
          "base_uri": "https://localhost:8080/",
          "height": 413
        },
        "outputId": "df764bfd-006b-48b9-e0d9-52c9fb0ecddc"
      },
      "source": [
        "plt.figure(figsize = (16,6)) # Create matplotlib figure\n",
        "sns.heatmap(df.corr(), annot = True, linewidths=1, fmt=\".2g\", cmap= 'coolwarm') \n",
        "# fmt = .1e (scientific notation), .2f (2 decimal places), .3g(3 significant figures), .2%(percentage with 2 decimal places)\n",
        "plt.xticks(rotation='horizontal')"
      ],
      "execution_count": null,
      "outputs": [
        {
          "output_type": "execute_result",
          "data": {
            "text/plain": [
              "(array([ 0.5,  1.5,  2.5,  3.5,  4.5,  5.5,  6.5,  7.5,  8.5,  9.5, 10.5,\n",
              "        11.5]), <a list of 12 Text major ticklabel objects>)"
            ]
          },
          "metadata": {},
          "execution_count": 12
        },
        {
          "output_type": "display_data",
          "data": {
            "text/plain": [
              "<Figure size 1152x432 with 2 Axes>"
            ],
            "image/png": "[encoded data removed]"
          },
          "metadata": {
            "needs_background": "light"
          }
        }
      ]
    },
    {
      "cell_type": "code",
      "metadata": {
        "id": "FhQ0c4EewF0Q"
      },
      "source": [
        "# Resample the energy of the building over a week using the resample function and the mean  function. \n",
        "df_sum_weekly = df['building 41'].resample('W').mean()\n",
        "\n",
        "# Resample the temperature over a week. \n",
        "df_feature1= df[\"Temp\"].resample(\"W\").mean()\n",
        "\n",
        "# Resample the relative humidity over a week. \n",
        "df_feature2 = df[\"U\"].resample(\"W\").mean()"
      ],
      "execution_count": null,
      "outputs": []
    },
    {
      "cell_type": "code",
      "source": [
        "df_sum_weekly.index"
      ],
      "metadata": {
        "id": "VNYEYMQQjrE8",
        "colab": {
          "base_uri": "https://localhost:8080/"
        },
        "outputId": "8570e292-a5c0-4c9a-915a-f3cc75474283"
      },
      "execution_count": null,
      "outputs": [
        {
          "output_type": "execute_result",
          "data": {
            "text/plain": [
              "DatetimeIndex(['2016-01-03', '2016-01-10', '2016-01-17', '2016-01-24',\n",
              "               '2016-01-31', '2016-02-07', '2016-02-14', '2016-02-21',\n",
              "               '2016-02-28', '2016-03-06',\n",
              "               ...\n",
              "               '2018-11-04', '2018-11-11', '2018-11-18', '2018-11-25',\n",
              "               '2018-12-02', '2018-12-09', '2018-12-16', '2018-12-23',\n",
              "               '2018-12-30', '2019-01-06'],\n",
              "              dtype='datetime64[ns]', name='Time', length=158, freq='W-SUN')"
            ]
          },
          "metadata": {},
          "execution_count": 14
        }
      ]
    },
    {
      "cell_type": "code",
      "metadata": {
        "id": "BKh6WWoWwFxu",
        "colab": {
          "base_uri": "https://localhost:8080/",
          "height": 340
        },
        "outputId": "16f4146d-8a74-4230-eb7b-71b8fb283b48"
      },
      "source": [
        "# plot the result\n",
        "fig,ax = plt.subplots(figsize=(24,8))  # Create matplotlib figure\n",
        "ax.plot(df_sum_weekly.index, df_sum_weekly, color=\"red\",marker=\"o\")\n",
        "ax.set_ylabel(\"KWh\")\n",
        "ax.set_xlabel('Date')\n",
        "ax2 = ax.twinx() #Creating new Axes with an invisible x-axis and an independent y-axis positioned opposite to the original one (i.e. at right).\n",
        "ax3 = ax.twinx()\n",
        "ax2.plot(df_sum_weekly.index, df_feature1, color=\"blue\", marker=\"o\")\n",
        "ax2.set_ylabel(\"°C\")\n",
        "ax3.plot(df_sum_weekly.index, df_feature2, color=\"green\", marker=\"o\")\n",
        "ax3.set_ylabel(\"grams/cubic meter\")\n",
        "ax3.spines[\"right\"].set_position((\"axes\", 1.05))\n",
        "fig.legend([\"Resampled Weekly Energy Consumption\",\"Resampled Weekly Temperature\",\"Resampled Weekly Relative Humidity\"], loc='upper right')\n",
        "fig.show()"
      ],
      "execution_count": null,
      "outputs": [
        {
          "output_type": "display_data",
          "data": {
            "text/plain": [
              "<Figure size 1728x576 with 3 Axes>"
            ],
            "image/png": "[encoded data removed]"
          },
          "metadata": {
            "needs_background": "light"
          }
        }
      ]
    },
    {
      "cell_type": "code",
      "metadata": {
        "id": "Gm8NeVF7wFur",
        "colab": {
          "base_uri": "https://localhost:8080/"
        },
        "outputId": "2a44e5fc-7c14-4eb4-8ff1-58d6b3bec60d"
      },
      "source": [
        "# calculate the spearmans's correlation between two variables\n",
        "from scipy.stats import spearmanr\n",
        "\n",
        "#filter columns from dataframe\n",
        "energy = np.array(df[\"building 41\"]) \n",
        "hour = np.array(df[\"HH\"])\n",
        "month= np.array(df[\"month\"])\n",
        "\n",
        "# calculate spearman's correlation\n",
        "corr1, _ = spearmanr(energy, hour)\n",
        "corr2,_ = spearmanr(energy, month)\n",
        "print('Spearmans correlation between Energy and hour feature: %.3f' % corr1)\n",
        "print('Spearmans correlation between Energy and month feature: %.3f' % corr2)"
      ],
      "execution_count": null,
      "outputs": [
        {
          "output_type": "stream",
          "name": "stdout",
          "text": [
            "Spearmans correlation between Energy and hour feature: 0.068\n",
            "Spearmans correlation between Energy and month feature: 0.077\n"
          ]
        }
      ]
    },
    {
      "cell_type": "code",
      "metadata": {
        "id": "T3FLLMhDwFsP",
        "colab": {
          "base_uri": "https://localhost:8080/",
          "height": 455
        },
        "outputId": "6fa5980c-54dc-4b99-c450-1d12315da538"
      },
      "source": [
        "#Reduce number of features with lower correlation values or it has an inverse effect on the results of the model.\n",
        "knmi_updated= knmi.loc[:, ~knmi.columns.isin([\"TD\",\"U\",\"DR\",\"FX\"])] # ~ sign drops the columns \n",
        "knmi_updated"
      ],
      "execution_count": null,
      "outputs": [
        {
          "output_type": "execute_result",
          "data": {
            "text/plain": [
              "                     month  HH  Temp    RH  Q  FF      P\n",
              "Time                                                    \n",
              "2016-01-01 01:00:00      1   1   6.6  0.82  0  30  10224\n",
              "2016-01-01 02:00:00      1   2   7.0  0.83  0  40  10228\n",
              "2016-01-01 03:00:00      1   3   5.9  0.91  0  30  10232\n",
              "2016-01-01 04:00:00      1   4   4.2  0.96  0  20  10237\n",
              "2016-01-01 05:00:00      1   5   4.0  0.98  0  20  10240\n",
              "...                    ...  ..   ...   ... ..  ..    ...\n",
              "2018-12-31 19:00:00     12  19   8.7  0.93  0  30  10341\n",
              "2018-12-31 20:00:00     12  20   8.5  0.92  0  30  10338\n",
              "2018-12-31 21:00:00     12  21   8.2  0.89  0  40  10336\n",
              "2018-12-31 22:00:00     12  22   7.6  0.94  0  40  10332\n",
              "2018-12-31 23:00:00     12  23   7.6  0.94  0  40  10333\n",
              "\n",
              "[26303 rows x 7 columns]"
            ],
            "text/html": [
              "\n",
              "  <div id=\"df-df99ee5d-f48f-4d1f-819d-d2502e444db0\">\n",
              "    <div class=\"colab-df-container\">\n",
              "      <div>\n",
              "<style scoped>\n",
              "    .dataframe tbody tr th:only-of-type {\n",
              "        vertical-align: middle;\n",
              "    }\n",
              "\n",
              "    .dataframe tbody tr th {\n",
              "        vertical-align: top;\n",
              "    }\n",
              "\n",
              "    .dataframe thead th {\n",
              "        text-align: right;\n",
              "    }\n",
              "</style>\n",
              "<table border=\"1\" class=\"dataframe\">\n",
              "  <thead>\n",
              "    <tr style=\"text-align: right;\">\n",
              "      <th></th>\n",
              "      <th>month</th>\n",
              "      <th>HH</th>\n",
              "      <th>Temp</th>\n",
              "      <th>RH</th>\n",
              "      <th>Q</th>\n",
              "      <th>FF</th>\n",
              "      <th>P</th>\n",
              "    </tr>\n",
              "    <tr>\n",
              "      <th>Time</th>\n",
              "      <th></th>\n",
              "      <th></th>\n",
              "      <th></th>\n",
              "      <th></th>\n",
              "      <th></th>\n",
              "      <th></th>\n",
              "      <th></th>\n",
              "    </tr>\n",
              "  </thead>\n",
              "  <tbody>\n",
              "    <tr>\n",
              "      <th>2016-01-01 01:00:00</th>\n",
              "      <td>1</td>\n",
              "      <td>1</td>\n",
              "      <td>6.6</td>\n",
              "      <td>0.82</td>\n",
              "      <td>0</td>\n",
              "      <td>30</td>\n",
              "      <td>10224</td>\n",
              "    </tr>\n",
              "    <tr>\n",
              "      <th>2016-01-01 02:00:00</th>\n",
              "      <td>1</td>\n",
              "      <td>2</td>\n",
              "      <td>7.0</td>\n",
              "      <td>0.83</td>\n",
              "      <td>0</td>\n",
              "      <td>40</td>\n",
              "      <td>10228</td>\n",
              "    </tr>\n",
              "    <tr>\n",
              "      <th>2016-01-01 03:00:00</th>\n",
              "      <td>1</td>\n",
              "      <td>3</td>\n",
              "      <td>5.9</td>\n",
              "      <td>0.91</td>\n",
              "      <td>0</td>\n",
              "      <td>30</td>\n",
              "      <td>10232</td>\n",
              "    </tr>\n",
              "    <tr>\n",
              "      <th>2016-01-01 04:00:00</th>\n",
              "      <td>1</td>\n",
              "      <td>4</td>\n",
              "      <td>4.2</td>\n",
              "      <td>0.96</td>\n",
              "      <td>0</td>\n",
              "      <td>20</td>\n",
              "      <td>10237</td>\n",
              "    </tr>\n",
              "    <tr>\n",
              "      <th>2016-01-01 05:00:00</th>\n",
              "      <td>1</td>\n",
              "      <td>5</td>\n",
              "      <td>4.0</td>\n",
              "      <td>0.98</td>\n",
              "      <td>0</td>\n",
              "      <td>20</td>\n",
              "      <td>10240</td>\n",
              "    </tr>\n",
              "    <tr>\n",
              "      <th>...</th>\n",
              "      <td>...</td>\n",
              "      <td>...</td>\n",
              "      <td>...</td>\n",
              "      <td>...</td>\n",
              "      <td>...</td>\n",
              "      <td>...</td>\n",
              "      <td>...</td>\n",
              "    </tr>\n",
              "    <tr>\n",
              "      <th>2018-12-31 19:00:00</th>\n",
              "      <td>12</td>\n",
              "      <td>19</td>\n",
              "      <td>8.7</td>\n",
              "      <td>0.93</td>\n",
              "      <td>0</td>\n",
              "      <td>30</td>\n",
              "      <td>10341</td>\n",
              "    </tr>\n",
              "    <tr>\n",
              "      <th>2018-12-31 20:00:00</th>\n",
              "      <td>12</td>\n",
              "      <td>20</td>\n",
              "      <td>8.5</td>\n",
              "      <td>0.92</td>\n",
              "      <td>0</td>\n",
              "      <td>30</td>\n",
              "      <td>10338</td>\n",
              "    </tr>\n",
              "    <tr>\n",
              "      <th>2018-12-31 21:00:00</th>\n",
              "      <td>12</td>\n",
              "      <td>21</td>\n",
              "      <td>8.2</td>\n",
              "      <td>0.89</td>\n",
              "      <td>0</td>\n",
              "      <td>40</td>\n",
              "      <td>10336</td>\n",
              "    </tr>\n",
              "    <tr>\n",
              "      <th>2018-12-31 22:00:00</th>\n",
              "      <td>12</td>\n",
              "      <td>22</td>\n",
              "      <td>7.6</td>\n",
              "      <td>0.94</td>\n",
              "      <td>0</td>\n",
              "      <td>40</td>\n",
              "      <td>10332</td>\n",
              "    </tr>\n",
              "    <tr>\n",
              "      <th>2018-12-31 23:00:00</th>\n",
              "      <td>12</td>\n",
              "      <td>23</td>\n",
              "      <td>7.6</td>\n",
              "      <td>0.94</td>\n",
              "      <td>0</td>\n",
              "      <td>40</td>\n",
              "      <td>10333</td>\n",
              "    </tr>\n",
              "  </tbody>\n",
              "</table>\n",
              "<p>26303 rows × 7 columns</p>\n",
              "</div>\n",
              "      <button class=\"colab-df-convert\" onclick=\"convertToInteractive('df-df99ee5d-f48f-4d1f-819d-d2502e444db0')\"\n",
              "              title=\"Convert this dataframe to an interactive table.\"\n",
              "              style=\"display:none;\">\n",
              "        \n",
              "  <svg xmlns=\"http://www.w3.org/2000/svg\" height=\"24px\"viewBox=\"0 0 24 24\"\n",
              "       width=\"24px\">\n",
              "    <path d=\"M0 0h24v24H0V0z\" fill=\"none\"/>\n",
              "    <path d=\"M18.56 5.44l.94 2.06.94-2.06 2.06-.94-2.06-.94-.94-2.06-.94 2.06-2.06.94zm-11 1L8.5 8.5l.94-2.06 2.06-.94-2.06-.94L8.5 2.5l-.94 2.06-2.06.94zm10 10l.94 2.06.94-2.06 2.06-.94-2.06-.94-.94-2.06-.94 2.06-2.06.94z\"/><path d=\"M17.41 7.96l-1.37-1.37c-.4-.4-.92-.59-1.43-.59-.52 0-1.04.2-1.43.59L10.3 9.45l-7.72 7.72c-.78.78-.78 2.05 0 2.83L4 21.41c.39.39.9.59 1.41.59.51 0 1.02-.2 1.41-.59l7.78-7.78 2.81-2.81c.8-.78.8-2.07 0-2.86zM5.41 20L4 18.59l7.72-7.72 1.47 1.35L5.41 20z\"/>\n",
              "  </svg>\n",
              "      </button>\n",
              "      \n",
              "  <style>\n",
              "    .colab-df-container {\n",
              "      display:flex;\n",
              "      flex-wrap:wrap;\n",
              "      gap: 12px;\n",
              "    }\n",
              "\n",
              "    .colab-df-convert {\n",
              "      background-color: #E8F0FE;\n",
              "      border: none;\n",
              "      border-radius: 50%;\n",
              "      cursor: pointer;\n",
              "      display: none;\n",
              "      fill: #1967D2;\n",
              "      height: 32px;\n",
              "      padding: 0 0 0 0;\n",
              "      width: 32px;\n",
              "    }\n",
              "\n",
              "    .colab-df-convert:hover {\n",
              "      background-color: #E2EBFA;\n",
              "      box-shadow: 0px 1px 2px rgba(60, 64, 67, 0.3), 0px 1px 3px 1px rgba(60, 64, 67, 0.15);\n",
              "      fill: #174EA6;\n",
              "    }\n",
              "\n",
              "    [theme=dark] .colab-df-convert {\n",
              "      background-color: #3B4455;\n",
              "      fill: #D2E3FC;\n",
              "    }\n",
              "\n",
              "    [theme=dark] .colab-df-convert:hover {\n",
              "      background-color: #434B5C;\n",
              "      box-shadow: 0px 1px 3px 1px rgba(0, 0, 0, 0.15);\n",
              "      filter: drop-shadow(0px 1px 2px rgba(0, 0, 0, 0.3));\n",
              "      fill: #FFFFFF;\n",
              "    }\n",
              "  </style>\n",
              "\n",
              "      <script>\n",
              "        const buttonEl =\n",
              "          document.querySelector('#df-df99ee5d-f48f-4d1f-819d-d2502e444db0 button.colab-df-convert');\n",
              "        buttonEl.style.display =\n",
              "          google.colab.kernel.accessAllowed ? 'block' : 'none';\n",
              "\n",
              "        async function convertToInteractive(key) {\n",
              "          const element = document.querySelector('#df-df99ee5d-f48f-4d1f-819d-d2502e444db0');\n",
              "          const dataTable =\n",
              "            await google.colab.kernel.invokeFunction('convertToInteractive',\n",
              "                                                     [key], {});\n",
              "          if (!dataTable) return;\n",
              "\n",
              "          const docLinkHtml = 'Like what you see? Visit the ' +\n",
              "            '<a target=\"_blank\" href=https://colab.research.google.com/notebooks/data_table.ipynb>data table notebook</a>'\n",
              "            + ' to learn more about interactive tables.';\n",
              "          element.innerHTML = '';\n",
              "          dataTable['output_type'] = 'display_data';\n",
              "          await google.colab.output.renderOutput(dataTable, element);\n",
              "          const docLink = document.createElement('div');\n",
              "          docLink.innerHTML = docLinkHtml;\n",
              "          element.appendChild(docLink);\n",
              "        }\n",
              "      </script>\n",
              "    </div>\n",
              "  </div>\n",
              "  "
            ]
          },
          "metadata": {},
          "execution_count": 17
        }
      ]
    },
    {
      "cell_type": "code",
      "metadata": {
        "id": "hPKYZq9Z4zZa",
        "colab": {
          "base_uri": "https://localhost:8080/",
          "height": 455
        },
        "outputId": "89a869a4-fe26-49ab-9287-9533bf9e610d"
      },
      "source": [
        "#Splitting the data into training (80%) and testing (20%) set\n",
        "from sklearn.model_selection import train_test_split\n",
        "X_train, X_test, y_train, y_test = train_test_split(knmi_updated, Energy, test_size = 0.2, random_state = 0)\n",
        "y_train"
      ],
      "execution_count": null,
      "outputs": [
        {
          "output_type": "execute_result",
          "data": {
            "text/plain": [
              "                     building 41\n",
              "Time                            \n",
              "2016-11-29 03:00:00    22.370362\n",
              "2018-01-29 11:00:00    24.725137\n",
              "2018-07-03 20:00:00    36.028058\n",
              "2017-09-05 16:00:00    44.034292\n",
              "2017-03-08 06:00:00    19.309155\n",
              "...                          ...\n",
              "2017-06-30 20:00:00    29.434687\n",
              "2018-03-29 17:00:00    21.899408\n",
              "2017-02-14 06:00:00    21.192975\n",
              "2017-03-26 00:00:00    19.544633\n",
              "2016-04-23 21:00:00    20.722020\n",
              "\n",
              "[21042 rows x 1 columns]"
            ],
            "text/html": [
              "\n",
              "  <div id=\"df-6bf1001d-96fb-4745-870c-7373e9007781\">\n",
              "    <div class=\"colab-df-container\">\n",
              "      <div>\n",
              "<style scoped>\n",
              "    .dataframe tbody tr th:only-of-type {\n",
              "        vertical-align: middle;\n",
              "    }\n",
              "\n",
              "    .dataframe tbody tr th {\n",
              "        vertical-align: top;\n",
              "    }\n",
              "\n",
              "    .dataframe thead th {\n",
              "        text-align: right;\n",
              "    }\n",
              "</style>\n",
              "<table border=\"1\" class=\"dataframe\">\n",
              "  <thead>\n",
              "    <tr style=\"text-align: right;\">\n",
              "      <th></th>\n",
              "      <th>building 41</th>\n",
              "    </tr>\n",
              "    <tr>\n",
              "      <th>Time</th>\n",
              "      <th></th>\n",
              "    </tr>\n",
              "  </thead>\n",
              "  <tbody>\n",
              "    <tr>\n",
              "      <th>2016-11-29 03:00:00</th>\n",
              "      <td>22.370362</td>\n",
              "    </tr>\n",
              "    <tr>\n",
              "      <th>2018-01-29 11:00:00</th>\n",
              "      <td>24.725137</td>\n",
              "    </tr>\n",
              "    <tr>\n",
              "      <th>2018-07-03 20:00:00</th>\n",
              "      <td>36.028058</td>\n",
              "    </tr>\n",
              "    <tr>\n",
              "      <th>2017-09-05 16:00:00</th>\n",
              "      <td>44.034292</td>\n",
              "    </tr>\n",
              "    <tr>\n",
              "      <th>2017-03-08 06:00:00</th>\n",
              "      <td>19.309155</td>\n",
              "    </tr>\n",
              "    <tr>\n",
              "      <th>...</th>\n",
              "      <td>...</td>\n",
              "    </tr>\n",
              "    <tr>\n",
              "      <th>2017-06-30 20:00:00</th>\n",
              "      <td>29.434687</td>\n",
              "    </tr>\n",
              "    <tr>\n",
              "      <th>2018-03-29 17:00:00</th>\n",
              "      <td>21.899408</td>\n",
              "    </tr>\n",
              "    <tr>\n",
              "      <th>2017-02-14 06:00:00</th>\n",
              "      <td>21.192975</td>\n",
              "    </tr>\n",
              "    <tr>\n",
              "      <th>2017-03-26 00:00:00</th>\n",
              "      <td>19.544633</td>\n",
              "    </tr>\n",
              "    <tr>\n",
              "      <th>2016-04-23 21:00:00</th>\n",
              "      <td>20.722020</td>\n",
              "    </tr>\n",
              "  </tbody>\n",
              "</table>\n",
              "<p>21042 rows × 1 columns</p>\n",
              "</div>\n",
              "      <button class=\"colab-df-convert\" onclick=\"convertToInteractive('df-6bf1001d-96fb-4745-870c-7373e9007781')\"\n",
              "              title=\"Convert this dataframe to an interactive table.\"\n",
              "              style=\"display:none;\">\n",
              "        \n",
              "  <svg xmlns=\"http://www.w3.org/2000/svg\" height=\"24px\"viewBox=\"0 0 24 24\"\n",
              "       width=\"24px\">\n",
              "    <path d=\"M0 0h24v24H0V0z\" fill=\"none\"/>\n",
              "    <path d=\"M18.56 5.44l.94 2.06.94-2.06 2.06-.94-2.06-.94-.94-2.06-.94 2.06-2.06.94zm-11 1L8.5 8.5l.94-2.06 2.06-.94-2.06-.94L8.5 2.5l-.94 2.06-2.06.94zm10 10l.94 2.06.94-2.06 2.06-.94-2.06-.94-.94-2.06-.94 2.06-2.06.94z\"/><path d=\"M17.41 7.96l-1.37-1.37c-.4-.4-.92-.59-1.43-.59-.52 0-1.04.2-1.43.59L10.3 9.45l-7.72 7.72c-.78.78-.78 2.05 0 2.83L4 21.41c.39.39.9.59 1.41.59.51 0 1.02-.2 1.41-.59l7.78-7.78 2.81-2.81c.8-.78.8-2.07 0-2.86zM5.41 20L4 18.59l7.72-7.72 1.47 1.35L5.41 20z\"/>\n",
              "  </svg>\n",
              "      </button>\n",
              "      \n",
              "  <style>\n",
              "    .colab-df-container {\n",
              "      display:flex;\n",
              "      flex-wrap:wrap;\n",
              "      gap: 12px;\n",
              "    }\n",
              "\n",
              "    .colab-df-convert {\n",
              "      background-color: #E8F0FE;\n",
              "      border: none;\n",
              "      border-radius: 50%;\n",
              "      cursor: pointer;\n",
              "      display: none;\n",
              "      fill: #1967D2;\n",
              "      height: 32px;\n",
              "      padding: 0 0 0 0;\n",
              "      width: 32px;\n",
              "    }\n",
              "\n",
              "    .colab-df-convert:hover {\n",
              "      background-color: #E2EBFA;\n",
              "      box-shadow: 0px 1px 2px rgba(60, 64, 67, 0.3), 0px 1px 3px 1px rgba(60, 64, 67, 0.15);\n",
              "      fill: #174EA6;\n",
              "    }\n",
              "\n",
              "    [theme=dark] .colab-df-convert {\n",
              "      background-color: #3B4455;\n",
              "      fill: #D2E3FC;\n",
              "    }\n",
              "\n",
              "    [theme=dark] .colab-df-convert:hover {\n",
              "      background-color: #434B5C;\n",
              "      box-shadow: 0px 1px 3px 1px rgba(0, 0, 0, 0.15);\n",
              "      filter: drop-shadow(0px 1px 2px rgba(0, 0, 0, 0.3));\n",
              "      fill: #FFFFFF;\n",
              "    }\n",
              "  </style>\n",
              "\n",
              "      <script>\n",
              "        const buttonEl =\n",
              "          document.querySelector('#df-6bf1001d-96fb-4745-870c-7373e9007781 button.colab-df-convert');\n",
              "        buttonEl.style.display =\n",
              "          google.colab.kernel.accessAllowed ? 'block' : 'none';\n",
              "\n",
              "        async function convertToInteractive(key) {\n",
              "          const element = document.querySelector('#df-6bf1001d-96fb-4745-870c-7373e9007781');\n",
              "          const dataTable =\n",
              "            await google.colab.kernel.invokeFunction('convertToInteractive',\n",
              "                                                     [key], {});\n",
              "          if (!dataTable) return;\n",
              "\n",
              "          const docLinkHtml = 'Like what you see? Visit the ' +\n",
              "            '<a target=\"_blank\" href=https://colab.research.google.com/notebooks/data_table.ipynb>data table notebook</a>'\n",
              "            + ' to learn more about interactive tables.';\n",
              "          element.innerHTML = '';\n",
              "          dataTable['output_type'] = 'display_data';\n",
              "          await google.colab.output.renderOutput(dataTable, element);\n",
              "          const docLink = document.createElement('div');\n",
              "          docLink.innerHTML = docLinkHtml;\n",
              "          element.appendChild(docLink);\n",
              "        }\n",
              "      </script>\n",
              "    </div>\n",
              "  </div>\n",
              "  "
            ]
          },
          "metadata": {},
          "execution_count": 18
        }
      ]
    },
    {
      "cell_type": "code",
      "source": [
        "y_train"
      ],
      "metadata": {
        "id": "gTQMbSy4lN54",
        "colab": {
          "base_uri": "https://localhost:8080/",
          "height": 455
        },
        "outputId": "1d4fc74c-04e4-4c35-b4c2-2fede2a3efce"
      },
      "execution_count": null,
      "outputs": [
        {
          "output_type": "execute_result",
          "data": {
            "text/plain": [
              "                     building 41\n",
              "Time                            \n",
              "2016-11-29 03:00:00    22.370362\n",
              "2018-01-29 11:00:00    24.725137\n",
              "2018-07-03 20:00:00    36.028058\n",
              "2017-09-05 16:00:00    44.034292\n",
              "2017-03-08 06:00:00    19.309155\n",
              "...                          ...\n",
              "2017-06-30 20:00:00    29.434687\n",
              "2018-03-29 17:00:00    21.899408\n",
              "2017-02-14 06:00:00    21.192975\n",
              "2017-03-26 00:00:00    19.544633\n",
              "2016-04-23 21:00:00    20.722020\n",
              "\n",
              "[21042 rows x 1 columns]"
            ],
            "text/html": [
              "\n",
              "  <div id=\"df-452e418c-8e1e-44d8-bec7-3f428eda9f54\">\n",
              "    <div class=\"colab-df-container\">\n",
              "      <div>\n",
              "<style scoped>\n",
              "    .dataframe tbody tr th:only-of-type {\n",
              "        vertical-align: middle;\n",
              "    }\n",
              "\n",
              "    .dataframe tbody tr th {\n",
              "        vertical-align: top;\n",
              "    }\n",
              "\n",
              "    .dataframe thead th {\n",
              "        text-align: right;\n",
              "    }\n",
              "</style>\n",
              "<table border=\"1\" class=\"dataframe\">\n",
              "  <thead>\n",
              "    <tr style=\"text-align: right;\">\n",
              "      <th></th>\n",
              "      <th>building 41</th>\n",
              "    </tr>\n",
              "    <tr>\n",
              "      <th>Time</th>\n",
              "      <th></th>\n",
              "    </tr>\n",
              "  </thead>\n",
              "  <tbody>\n",
              "    <tr>\n",
              "      <th>2016-11-29 03:00:00</th>\n",
              "      <td>22.370362</td>\n",
              "    </tr>\n",
              "    <tr>\n",
              "      <th>2018-01-29 11:00:00</th>\n",
              "      <td>24.725137</td>\n",
              "    </tr>\n",
              "    <tr>\n",
              "      <th>2018-07-03 20:00:00</th>\n",
              "      <td>36.028058</td>\n",
              "    </tr>\n",
              "    <tr>\n",
              "      <th>2017-09-05 16:00:00</th>\n",
              "      <td>44.034292</td>\n",
              "    </tr>\n",
              "    <tr>\n",
              "      <th>2017-03-08 06:00:00</th>\n",
              "      <td>19.309155</td>\n",
              "    </tr>\n",
              "    <tr>\n",
              "      <th>...</th>\n",
              "      <td>...</td>\n",
              "    </tr>\n",
              "    <tr>\n",
              "      <th>2017-06-30 20:00:00</th>\n",
              "      <td>29.434687</td>\n",
              "    </tr>\n",
              "    <tr>\n",
              "      <th>2018-03-29 17:00:00</th>\n",
              "      <td>21.899408</td>\n",
              "    </tr>\n",
              "    <tr>\n",
              "      <th>2017-02-14 06:00:00</th>\n",
              "      <td>21.192975</td>\n",
              "    </tr>\n",
              "    <tr>\n",
              "      <th>2017-03-26 00:00:00</th>\n",
              "      <td>19.544633</td>\n",
              "    </tr>\n",
              "    <tr>\n",
              "      <th>2016-04-23 21:00:00</th>\n",
              "      <td>20.722020</td>\n",
              "    </tr>\n",
              "  </tbody>\n",
              "</table>\n",
              "<p>21042 rows × 1 columns</p>\n",
              "</div>\n",
              "      <button class=\"colab-df-convert\" onclick=\"convertToInteractive('df-452e418c-8e1e-44d8-bec7-3f428eda9f54')\"\n",
              "              title=\"Convert this dataframe to an interactive table.\"\n",
              "              style=\"display:none;\">\n",
              "        \n",
              "  <svg xmlns=\"http://www.w3.org/2000/svg\" height=\"24px\"viewBox=\"0 0 24 24\"\n",
              "       width=\"24px\">\n",
              "    <path d=\"M0 0h24v24H0V0z\" fill=\"none\"/>\n",
              "    <path d=\"M18.56 5.44l.94 2.06.94-2.06 2.06-.94-2.06-.94-.94-2.06-.94 2.06-2.06.94zm-11 1L8.5 8.5l.94-2.06 2.06-.94-2.06-.94L8.5 2.5l-.94 2.06-2.06.94zm10 10l.94 2.06.94-2.06 2.06-.94-2.06-.94-.94-2.06-.94 2.06-2.06.94z\"/><path d=\"M17.41 7.96l-1.37-1.37c-.4-.4-.92-.59-1.43-.59-.52 0-1.04.2-1.43.59L10.3 9.45l-7.72 7.72c-.78.78-.78 2.05 0 2.83L4 21.41c.39.39.9.59 1.41.59.51 0 1.02-.2 1.41-.59l7.78-7.78 2.81-2.81c.8-.78.8-2.07 0-2.86zM5.41 20L4 18.59l7.72-7.72 1.47 1.35L5.41 20z\"/>\n",
              "  </svg>\n",
              "      </button>\n",
              "      \n",
              "  <style>\n",
              "    .colab-df-container {\n",
              "      display:flex;\n",
              "      flex-wrap:wrap;\n",
              "      gap: 12px;\n",
              "    }\n",
              "\n",
              "    .colab-df-convert {\n",
              "      background-color: #E8F0FE;\n",
              "      border: none;\n",
              "      border-radius: 50%;\n",
              "      cursor: pointer;\n",
              "      display: none;\n",
              "      fill: #1967D2;\n",
              "      height: 32px;\n",
              "      padding: 0 0 0 0;\n",
              "      width: 32px;\n",
              "    }\n",
              "\n",
              "    .colab-df-convert:hover {\n",
              "      background-color: #E2EBFA;\n",
              "      box-shadow: 0px 1px 2px rgba(60, 64, 67, 0.3), 0px 1px 3px 1px rgba(60, 64, 67, 0.15);\n",
              "      fill: #174EA6;\n",
              "    }\n",
              "\n",
              "    [theme=dark] .colab-df-convert {\n",
              "      background-color: #3B4455;\n",
              "      fill: #D2E3FC;\n",
              "    }\n",
              "\n",
              "    [theme=dark] .colab-df-convert:hover {\n",
              "      background-color: #434B5C;\n",
              "      box-shadow: 0px 1px 3px 1px rgba(0, 0, 0, 0.15);\n",
              "      filter: drop-shadow(0px 1px 2px rgba(0, 0, 0, 0.3));\n",
              "      fill: #FFFFFF;\n",
              "    }\n",
              "  </style>\n",
              "\n",
              "      <script>\n",
              "        const buttonEl =\n",
              "          document.querySelector('#df-452e418c-8e1e-44d8-bec7-3f428eda9f54 button.colab-df-convert');\n",
              "        buttonEl.style.display =\n",
              "          google.colab.kernel.accessAllowed ? 'block' : 'none';\n",
              "\n",
              "        async function convertToInteractive(key) {\n",
              "          const element = document.querySelector('#df-452e418c-8e1e-44d8-bec7-3f428eda9f54');\n",
              "          const dataTable =\n",
              "            await google.colab.kernel.invokeFunction('convertToInteractive',\n",
              "                                                     [key], {});\n",
              "          if (!dataTable) return;\n",
              "\n",
              "          const docLinkHtml = 'Like what you see? Visit the ' +\n",
              "            '<a target=\"_blank\" href=https://colab.research.google.com/notebooks/data_table.ipynb>data table notebook</a>'\n",
              "            + ' to learn more about interactive tables.';\n",
              "          element.innerHTML = '';\n",
              "          dataTable['output_type'] = 'display_data';\n",
              "          await google.colab.output.renderOutput(dataTable, element);\n",
              "          const docLink = document.createElement('div');\n",
              "          docLink.innerHTML = docLinkHtml;\n",
              "          element.appendChild(docLink);\n",
              "        }\n",
              "      </script>\n",
              "    </div>\n",
              "  </div>\n",
              "  "
            ]
          },
          "metadata": {},
          "execution_count": 19
        }
      ]
    },
    {
      "cell_type": "code",
      "metadata": {
        "id": "54wOqJdlHI7B",
        "colab": {
          "base_uri": "https://localhost:8080/"
        },
        "outputId": "a0201438-66b5-40f2-8cb0-133d770c05c5"
      },
      "source": [
        "y_train = y_train.values.ravel() #ravel is a numpy function to change a 2-dimensional array or a multi-dimensional array into a continuous flattened array.\n",
        "y_train"
      ],
      "execution_count": null,
      "outputs": [
        {
          "output_type": "execute_result",
          "data": {
            "text/plain": [
              "array([22.3703625, 24.7251375, 36.0280575, ..., 21.192975 , 19.5446325,\n",
              "       20.72202  ])"
            ]
          },
          "metadata": {},
          "execution_count": 20
        }
      ]
    },
    {
      "cell_type": "code",
      "metadata": {
        "id": "fwyuvJ3cHA7Z",
        "colab": {
          "base_uri": "https://localhost:8080/"
        },
        "outputId": "b3d5f8ee-ebdd-40b9-9472-f6a9ea45de46"
      },
      "source": [
        "y_test = y_test.values.ravel()\n",
        "y_test"
      ],
      "execution_count": null,
      "outputs": [
        {
          "output_type": "execute_result",
          "data": {
            "text/plain": [
              "array([19.5446325, 32.2604175, 20.0155875, ..., 20.72202  , 28.4927775,\n",
              "       25.1960925])"
            ]
          },
          "metadata": {},
          "execution_count": 21
        }
      ]
    },
    {
      "cell_type": "code",
      "metadata": {
        "id": "MXSmObkk6PFN",
        "colab": {
          "base_uri": "https://localhost:8080/"
        },
        "outputId": "ae3f88d3-2b74-4605-ec62-8121e5891220"
      },
      "source": [
        "# importing regression model \n",
        "from sklearn.svm import SVR\n",
        "\n",
        "#Creating an instance or object of the support vector machine regressor class\n",
        "SVReg = SVR(kernel= 'rbf') # It must be one of 'linear', 'poly', 'rbf', 'sigmoid' (rbf - Radial Basis Function is used in machine learning to find a non-linear regression line.)\n",
        "\n",
        "# fitting the regression model to the training dataset\n",
        "SVReg.fit(X_train, y_train) #Fit the SVM model according to the given training data."
      ],
      "execution_count": null,
      "outputs": [
        {
          "output_type": "execute_result",
          "data": {
            "text/plain": [
              "SVR()"
            ]
          },
          "metadata": {},
          "execution_count": 22
        }
      ]
    },
    {
      "cell_type": "code",
      "metadata": {
        "id": "8j0uwXfRzWUV",
        "colab": {
          "base_uri": "https://localhost:8080/"
        },
        "outputId": "c948e239-1ad8-4146-9ce2-aaf79353199c"
      },
      "source": [
        "# predicting on the training data\n",
        "Predicted_Train= SVReg.predict(X_train)\n",
        "Predicted_Train"
      ],
      "execution_count": null,
      "outputs": [
        {
          "output_type": "execute_result",
          "data": {
            "text/plain": [
              "array([23.33747534, 23.52037698, 23.57941113, ..., 23.3715236 ,\n",
              "       23.38476265, 23.42220531])"
            ]
          },
          "metadata": {},
          "execution_count": 23
        }
      ]
    },
    {
      "cell_type": "code",
      "metadata": {
        "id": "OZNnOnuy6PIN",
        "colab": {
          "base_uri": "https://localhost:8080/"
        },
        "outputId": "f648d5a9-b29f-4a59-d653-04cfd5a7bb17"
      },
      "source": [
        "# To evaluate the performance of the model, importing error metrics function\n",
        "from sklearn.metrics import r2_score #(coefficient of determination) regression score function.\n",
        "from sklearn.metrics import mean_squared_error #The MSE indicates the average distance of the best fit regression line to the observed values.\n",
        "\n",
        "print(r2_score(y_train,Predicted_Train))\n",
        "print(mean_squared_error(y_train,Predicted_Train))"
      ],
      "execution_count": null,
      "outputs": [
        {
          "output_type": "stream",
          "name": "stdout",
          "text": [
            "0.01964854734223298\n",
            "39.16973198670731\n"
          ]
        }
      ]
    },
    {
      "cell_type": "code",
      "metadata": {
        "id": "hujoQXQgwFoz"
      },
      "source": [
        "# Import the required packages\n",
        "from sklearn.preprocessing import StandardScaler #standardizes the data to a range in which the mean is equal to 0 and the standard deviation is 1. It assumes the data is normally distributed.\n",
        "from sklearn.preprocessing import MinMaxScaler #normalizes the data and brings the values between 0 (lowest value) and 1 (highest value)\n",
        "from sklearn.preprocessing import RobustScaler #standardizes the data. But is more robust to outliers because it only scales the data according to the Interquartile Range (IQR) between the 1st and 3rd quartile.\n",
        "\n",
        "#Generate the scaler\n",
        "sc1= StandardScaler()\n",
        "sc2= MinMaxScaler()\n",
        "sc3= RobustScaler()"
      ],
      "execution_count": null,
      "outputs": []
    },
    {
      "cell_type": "code",
      "metadata": {
        "id": "N7iKtahXxwKn"
      },
      "source": [
        "#Scaling the input data\n",
        "X1 = sc1.fit_transform(knmi_updated)\n",
        "X2 = sc2.fit_transform(knmi_updated)\n",
        "X3 = sc3.fit_transform(knmi_updated)\n",
        "\n",
        "#We do not need to scale the output data as we have only one output."
      ],
      "execution_count": null,
      "outputs": []
    },
    {
      "cell_type": "code",
      "metadata": {
        "id": "ozDZOC7a-KKu",
        "colab": {
          "base_uri": "https://localhost:8080/",
          "height": 406
        },
        "outputId": "e6870d00-3f23-4282-e23f-967a049c07fb"
      },
      "source": [
        "#plotting to visually explore the scaled features\n",
        "sns.distplot(X1,color=\"red\",label=\"StdScaler\")\n",
        "sns.distplot(X2,color=\"blue\",label=\"MinMax\")\n",
        "sns.distplot(X3,color=\"black\",label=\"RobustScaler\")\n",
        "plt.legend()"
      ],
      "execution_count": null,
      "outputs": [
        {
          "output_type": "stream",
          "name": "stderr",
          "text": [
            "/usr/local/lib/python3.7/dist-packages/seaborn/distributions.py:2619: FutureWarning: `distplot` is a deprecated function and will be removed in a future version. Please adapt your code to use either `displot` (a figure-level function with similar flexibility) or `histplot` (an axes-level function for histograms).\n",
            "  warnings.warn(msg, FutureWarning)\n",
            "/usr/local/lib/python3.7/dist-packages/seaborn/distributions.py:2619: FutureWarning: `distplot` is a deprecated function and will be removed in a future version. Please adapt your code to use either `displot` (a figure-level function with similar flexibility) or `histplot` (an axes-level function for histograms).\n",
            "  warnings.warn(msg, FutureWarning)\n",
            "/usr/local/lib/python3.7/dist-packages/seaborn/distributions.py:2619: FutureWarning: `distplot` is a deprecated function and will be removed in a future version. Please adapt your code to use either `displot` (a figure-level function with similar flexibility) or `histplot` (an axes-level function for histograms).\n",
            "  warnings.warn(msg, FutureWarning)\n"
          ]
        },
        {
          "output_type": "execute_result",
          "data": {
            "text/plain": [
              "<matplotlib.legend.Legend at 0x7ff2ad96ff90>"
            ]
          },
          "metadata": {},
          "execution_count": 27
        },
        {
          "output_type": "display_data",
          "data": {
            "text/plain": [
              "<Figure size 432x288 with 1 Axes>"
            ],
            "image/png": "[encoded data removed]"
          },
          "metadata": {
            "needs_background": "light"
          }
        }
      ]
    },
    {
      "cell_type": "markdown",
      "source": [
        "**Applying Linear Regression**"
      ],
      "metadata": {
        "id": "NNrwdUB94m-O"
      }
    },
    {
      "cell_type": "markdown",
      "source": [
        "Standard Scaler"
      ],
      "metadata": {
        "id": "6UWaN8aEU-ec"
      }
    },
    {
      "cell_type": "code",
      "metadata": {
        "id": "XRtk0bHTgoQp"
      },
      "source": [
        "#Split your data set into training (80%) and test data (20%)\n",
        "X_train, X_test, y_train, y_test = train_test_split(X1, Energy, test_size=0.2, random_state=0, shuffle= \"False\")\n",
        "y_train = y_train.values.ravel()\n",
        "y_test = y_test.values.ravel()"
      ],
      "execution_count": null,
      "outputs": []
    },
    {
      "cell_type": "code",
      "source": [
        "from sklearn import linear_model\n",
        "reg = linear_model.LinearRegression()\n",
        "reg.fit(X_train,y_train)"
      ],
      "metadata": {
        "id": "XBUwj6D1SpYh",
        "colab": {
          "base_uri": "https://localhost:8080/"
        },
        "outputId": "6b3f8dd4-e81d-47c7-c4c0-2192f95d8407"
      },
      "execution_count": null,
      "outputs": [
        {
          "output_type": "execute_result",
          "data": {
            "text/plain": [
              "LinearRegression()"
            ]
          },
          "metadata": {},
          "execution_count": 29
        }
      ]
    },
    {
      "cell_type": "code",
      "source": [
        "reg.coef_"
      ],
      "metadata": {
        "id": "1HyUOsReVE2u",
        "colab": {
          "base_uri": "https://localhost:8080/"
        },
        "outputId": "61121a5a-e55f-40a3-ca4b-e76c0f5bfbd4"
      },
      "execution_count": null,
      "outputs": [
        {
          "output_type": "execute_result",
          "data": {
            "text/plain": [
              "array([-0.4801692 ,  0.21410408,  5.28994185,  0.97422626,  0.71251176,\n",
              "       -0.28553216,  0.25882618])"
            ]
          },
          "metadata": {},
          "execution_count": 30
        }
      ]
    },
    {
      "cell_type": "code",
      "source": [
        "y_pred = reg.predict(X_test)\n",
        "print(r2_score(y_test, y_pred))\n",
        "print(mean_squared_error(y_test, y_pred))\n"
      ],
      "metadata": {
        "id": "IWIJDWbQZ39S",
        "colab": {
          "base_uri": "https://localhost:8080/"
        },
        "outputId": "70507168-4b41-4b9b-b28d-e581ccbe2f69"
      },
      "execution_count": null,
      "outputs": [
        {
          "output_type": "stream",
          "name": "stdout",
          "text": [
            "0.637178147041924\n",
            "14.41746706900608\n"
          ]
        }
      ]
    },
    {
      "cell_type": "markdown",
      "source": [
        "MinMax Scaler"
      ],
      "metadata": {
        "id": "Vap06Q5BVDjN"
      }
    },
    {
      "cell_type": "code",
      "source": [
        "X_train, X_test, y_train, y_test = train_test_split(X2, Energy, test_size=0.2, random_state=0, shuffle= \"False\")\n",
        "y_train = y_train.values.ravel()\n",
        "y_test = y_test.values.ravel()\n",
        "from sklearn import linear_model\n",
        "reg = linear_model.LinearRegression()\n",
        "reg.fit(X_train,y_train)\n",
        "y_pred = reg.predict(X_test)\n",
        "print(r2_score(y_test, y_pred))\n",
        "print(mean_squared_error(y_test, y_pred))"
      ],
      "metadata": {
        "id": "58E15gEZ6SOU",
        "colab": {
          "base_uri": "https://localhost:8080/"
        },
        "outputId": "da06b141-c986-47d3-ad08-a7334637053a"
      },
      "execution_count": null,
      "outputs": [
        {
          "output_type": "stream",
          "name": "stdout",
          "text": [
            "0.6371781470419238\n",
            "14.41746706900609\n"
          ]
        }
      ]
    },
    {
      "cell_type": "markdown",
      "source": [
        "Robust Scaler"
      ],
      "metadata": {
        "id": "taokwWCgVNtc"
      }
    },
    {
      "cell_type": "code",
      "source": [
        "X_train, X_test, y_train, y_test = train_test_split(X3, Energy, test_size=0.2, random_state=0, shuffle= \"False\")\n",
        "y_train = y_train.values.ravel()\n",
        "y_test = y_test.values.ravel()\n",
        "from sklearn import linear_model\n",
        "reg = linear_model.LinearRegression()\n",
        "reg.fit(X_train,y_train)\n",
        "y_pred = reg.predict(X_test)\n",
        "print(r2_score(y_test, y_pred))\n",
        "print(mean_squared_error(y_test, y_pred))"
      ],
      "metadata": {
        "id": "lmH1_e8G7eTI",
        "colab": {
          "base_uri": "https://localhost:8080/"
        },
        "outputId": "fe986871-aeff-4234-bde2-496eade42ef0"
      },
      "execution_count": null,
      "outputs": [
        {
          "output_type": "stream",
          "name": "stdout",
          "text": [
            "0.637178147041924\n",
            "14.41746706900608\n"
          ]
        }
      ]
    },
    {
      "cell_type": "markdown",
      "source": [
        "***Applying SVR***"
      ],
      "metadata": {
        "id": "YFcJxJ3m5s5X"
      }
    },
    {
      "cell_type": "markdown",
      "source": [
        "Standard Scaler"
      ],
      "metadata": {
        "id": "6Uo9uHkNVXB1"
      }
    },
    {
      "cell_type": "code",
      "source": [
        "#Split your data set into training (80%) and test data (20%)\n",
        "X_train, X_test, y_train, y_test = train_test_split(X1, Energy, test_size=0.2, random_state=0, shuffle= \"False\")\n",
        "y_train = y_train.values.ravel()\n",
        "y_test = y_test.values.ravel()"
      ],
      "metadata": {
        "id": "F_DGu4qx-itT"
      },
      "execution_count": null,
      "outputs": []
    },
    {
      "cell_type": "code",
      "metadata": {
        "id": "sWHIv-8DgoNe",
        "colab": {
          "base_uri": "https://localhost:8080/"
        },
        "outputId": "08e23c33-e1b3-454d-87b0-77c832b012d3"
      },
      "source": [
        "#building the regressor and fit the training data to the regressor\n",
        "regr = SVR(kernel='rbf')\n",
        "regr= regr.fit(X_train, y_train)\n",
        "regr"
      ],
      "execution_count": null,
      "outputs": [
        {
          "output_type": "execute_result",
          "data": {
            "text/plain": [
              "SVR()"
            ]
          },
          "metadata": {},
          "execution_count": 35
        }
      ]
    },
    {
      "cell_type": "code",
      "metadata": {
        "id": "vtpkE66KgoKk"
      },
      "source": [
        "# fitting the regression model to the training data\n",
        "regr.fit(X_train, y_train) #Fit the SVM model according to the given training data.\n",
        "# predicting on the training data\n",
        "predict_train= regr.predict(X_train)"
      ],
      "execution_count": null,
      "outputs": []
    },
    {
      "cell_type": "code",
      "metadata": {
        "id": "BJ7qRgTugoHe",
        "colab": {
          "base_uri": "https://localhost:8080/"
        },
        "outputId": "6689d7c3-d0ca-406d-ae80-84010461b88b"
      },
      "source": [
        "#testing the model training accuracy \n",
        "print(r2_score(y_train, predict_train))\n",
        "print(mean_squared_error(y_train, predict_train))"
      ],
      "execution_count": null,
      "outputs": [
        {
          "output_type": "stream",
          "name": "stdout",
          "text": [
            "0.8676607662388549\n",
            "5.287585695616701\n"
          ]
        }
      ]
    },
    {
      "cell_type": "code",
      "metadata": {
        "id": "tVgmlz7AgoE3",
        "colab": {
          "base_uri": "https://localhost:8080/"
        },
        "outputId": "f8daba9d-c806-4a91-bfcb-213fef137d10"
      },
      "source": [
        "#Predicting on the test data\n",
        "pred= regr.predict(X_test)\n",
        "##testing the models accuracy on the test data\n",
        "print(r2_score(y_test, pred))\n",
        "print(mean_squared_error(y_test, pred))"
      ],
      "execution_count": null,
      "outputs": [
        {
          "output_type": "stream",
          "name": "stdout",
          "text": [
            "0.865011398619708\n",
            "5.364047670294079\n"
          ]
        }
      ]
    },
    {
      "cell_type": "markdown",
      "source": [
        "MinMaxScaler"
      ],
      "metadata": {
        "id": "nkl1DAaZVdRU"
      }
    },
    {
      "cell_type": "code",
      "metadata": {
        "id": "xuh2BwOwiJr5",
        "colab": {
          "base_uri": "https://localhost:8080/"
        },
        "outputId": "abf769ed-04a3-40e6-bcf3-96221403447d"
      },
      "source": [
        "#Split your data set into training (80%) and test data (20%)\n",
        "X_train, X_test, y_train, y_test = train_test_split(X2, Energy, test_size=0.2, random_state=0, shuffle= \"False\")\n",
        "y_train = y_train.values.ravel()\n",
        "y_test = y_test.values.ravel()\n",
        "\n",
        "#building the regressor and fit the training data to the regressor\n",
        "regr = SVR(kernel='rbf')\n",
        "regr= regr.fit(X_train, y_train)\n",
        "\n",
        "# fitting the regression model to the training data\n",
        "regr.fit(X_train, y_train) #Fit the SVM model according to the given training data.\n",
        "# predicting on the training data\n",
        "predict_train= regr.predict(X_train)\n",
        "\n",
        "#testing the model training accuracy \n",
        "print(r2_score(y_train, predict_train))\n",
        "print(mean_squared_error(y_train, predict_train))"
      ],
      "execution_count": null,
      "outputs": [
        {
          "output_type": "stream",
          "name": "stdout",
          "text": [
            "0.8543589078950263\n",
            "5.819058592240028\n"
          ]
        }
      ]
    },
    {
      "cell_type": "code",
      "metadata": {
        "id": "k03JyATOiJoN",
        "colab": {
          "base_uri": "https://localhost:8080/"
        },
        "outputId": "bbd11292-60bf-43b8-8206-1004cfa25ddf"
      },
      "source": [
        "#Predicting on the test data\n",
        "pred= regr.predict(X_test)\n",
        "##testing the models accuracy on the test data\n",
        "print(r2_score(y_test, pred))\n",
        "print(mean_squared_error(y_test, pred))"
      ],
      "execution_count": null,
      "outputs": [
        {
          "output_type": "stream",
          "name": "stdout",
          "text": [
            "0.8514063183174978\n",
            "5.904673312407657\n"
          ]
        }
      ]
    },
    {
      "cell_type": "markdown",
      "source": [
        "Robust Scaler"
      ],
      "metadata": {
        "id": "G5r05LTLVgVp"
      }
    },
    {
      "cell_type": "code",
      "metadata": {
        "id": "F81LNQaiBIIw",
        "colab": {
          "base_uri": "https://localhost:8080/"
        },
        "outputId": "f5f91cec-12d3-4a27-b67f-7b927873bf5f"
      },
      "source": [
        "#Split your data set into training (80%) and test data (20%)\n",
        "X_train, X_test, y_train, y_test = train_test_split(X3, Energy, test_size=0.2, random_state=0, shuffle= \"False\")\n",
        "y_train = y_train.values.ravel()\n",
        "y_test = y_test.values.ravel()\n",
        "\n",
        "#building the regressor and fit the training data to the regressor\n",
        "regr = SVR(kernel='rbf')\n",
        "regr= regr.fit(X_train, y_train)\n",
        "\n",
        "# fitting the regression model to the training data\n",
        "regr.fit(X_train, y_train) #Fit the SVM model according to the given training data.\n",
        "# predicting on the training data\n",
        "predict_train= regr.predict(X_train)\n",
        "\n",
        "#testing the model training accuracy \n",
        "print(r2_score(y_train, predict_train))\n",
        "print(mean_squared_error(y_train, predict_train))"
      ],
      "execution_count": null,
      "outputs": [
        {
          "output_type": "stream",
          "name": "stdout",
          "text": [
            "0.861376711378752\n",
            "5.538663759501534\n"
          ]
        }
      ]
    },
    {
      "cell_type": "code",
      "metadata": {
        "id": "hjQvV0hRBbJB",
        "colab": {
          "base_uri": "https://localhost:8080/"
        },
        "outputId": "212ccd3a-b851-4c8e-9ebe-b0e8db77bad0"
      },
      "source": [
        "#Predicting on the test data\n",
        "pred= regr.predict(X_test)\n",
        "##testing the models accuracy on the test data\n",
        "print(r2_score(y_test, pred))\n",
        "print(mean_squared_error(y_test, pred))"
      ],
      "execution_count": null,
      "outputs": [
        {
          "output_type": "stream",
          "name": "stdout",
          "text": [
            "0.8581322813412404\n",
            "5.637403439847455\n"
          ]
        }
      ]
    },
    {
      "cell_type": "markdown",
      "source": [
        "***Random Forest***"
      ],
      "metadata": {
        "id": "vCIaNGrc-vtV"
      }
    },
    {
      "cell_type": "code",
      "source": [
        "#importing the ensemble module for the random forest regressor from sklearn library\n",
        "from sklearn.ensemble import RandomForestRegressor\n",
        "\n",
        "# Creating an instance of the random forest regressor\n",
        "RFReg = RandomForestRegressor(max_depth=10, random_state=0)\n",
        "\n",
        "# fitting the regression model to the training data\n",
        "X_train2, X_test2, y_train2, y_test2 = train_test_split(X1, Energy, test_size=0.2, random_state=0, shuffle= \"False\")\n",
        "y_train2 = y_train2.values.ravel()\n",
        "y_test2 = y_test2.values.ravel()\n",
        "RFReg.fit(X_train2, y_train2)\n",
        "\n",
        "#Predicting on the training data\n",
        "Predicted_Train2= RFReg.predict(X_train2)\n",
        "\n",
        "#Caculating R2 score and Root mean square error\n",
        "print(r2_score(y_train2, Predicted_Train2))\n",
        "print(mean_squared_error(y_train2, Predicted_Train2))"
      ],
      "metadata": {
        "id": "KJKFl3dY9K7t",
        "colab": {
          "base_uri": "https://localhost:8080/"
        },
        "outputId": "76432fd6-f186-4c41-92df-2401ad80c51f"
      },
      "execution_count": null,
      "outputs": [
        {
          "output_type": "stream",
          "name": "stdout",
          "text": [
            "0.9160860073645251\n",
            "3.3527655745857405\n"
          ]
        }
      ]
    },
    {
      "cell_type": "code",
      "source": [
        "# Lets visualise our fit to the training data.\n",
        "plt.plot(y_train2, color=\"b\",label= 'Original Data')\n",
        "plt.plot(Predicted_Train2, color =\"red\", label=\"RFReg predicted data\")\n",
        "plt.xlabel('Time (Hours)')\n",
        "plt.ylabel('kWh')\n",
        "plt.legend(loc='best')\n",
        "plt.show()"
      ],
      "metadata": {
        "id": "7pDrDhxL-zHt",
        "colab": {
          "base_uri": "https://localhost:8080/",
          "height": 279
        },
        "outputId": "703024ed-2f8f-490d-d886-e8a878bb3b26"
      },
      "execution_count": null,
      "outputs": [
        {
          "output_type": "display_data",
          "data": {
            "text/plain": [
              "<Figure size 432x288 with 1 Axes>"
            ],
            "image/png": "[encoded data removed]"
          },
          "metadata": {
            "needs_background": "light"
          }
        }
      ]
    },
    {
      "cell_type": "code",
      "source": [
        "#Predicting on the test set (X_test)\n",
        "Predicted_Test2 = RFReg.predict(X_test2)\n",
        "\n",
        "#Caculating R2 score and Root mean square error\n",
        "print(r2_score(y_test2,Predicted_Test2))\n",
        "print(mean_squared_error(y_test2,Predicted_Test2))"
      ],
      "metadata": {
        "colab": {
          "base_uri": "https://localhost:8080/"
        },
        "id": "wCSa32AOUh7d",
        "outputId": "ae18d0d4-c8e9-4114-c9e9-a667000716fa"
      },
      "execution_count": null,
      "outputs": [
        {
          "output_type": "stream",
          "name": "stdout",
          "text": [
            "0.8789413095281616\n",
            "4.81051422086311\n"
          ]
        }
      ]
    },
    {
      "cell_type": "code",
      "source": [
        "# Lets visualise our fit to the test data.\n",
        "plt.plot(y_test2, color='blue', label=\"Actual\")\n",
        "plt.plot(Predicted_Test2, color='Red', label=\"Predicted\")\n",
        "plt.xlabel('Time (Hours)')\n",
        "plt.ylabel('kWh')\n",
        "plt.legend(loc='best')"
      ],
      "metadata": {
        "colab": {
          "base_uri": "https://localhost:8080/",
          "height": 296
        },
        "id": "L_6oF3l1UlHl",
        "outputId": "452aa03b-380d-4d05-c658-5e6fa70227bc"
      },
      "execution_count": null,
      "outputs": [
        {
          "output_type": "execute_result",
          "data": {
            "text/plain": [
              "<matplotlib.legend.Legend at 0x7ff2a7cc8d90>"
            ]
          },
          "metadata": {},
          "execution_count": 46
        },
        {
          "output_type": "display_data",
          "data": {
            "text/plain": [
              "<Figure size 432x288 with 1 Axes>"
            ],
            "image/png": "[encoded data removed]"
          },
          "metadata": {
            "needs_background": "light"
          }
        }
      ]
    },
    {
      "cell_type": "code",
      "source": [
        "#taking all features except U because U and RH are correlated\n",
        "\n",
        "X4 = sc1.fit_transform(knmi.loc[:, ~knmi.columns.isin([\"U\"])])            "
      ],
      "metadata": {
        "id": "1x9L98d4W8TX"
      },
      "execution_count": null,
      "outputs": []
    },
    {
      "cell_type": "code",
      "source": [
        "from sklearn.model_selection import GridSearchCV"
      ],
      "metadata": {
        "id": "JpMfQwWUV6qk"
      },
      "execution_count": null,
      "outputs": []
    },
    {
      "cell_type": "code",
      "source": [
        "#settings for hyperparameters\n",
        "check_parameters = {'max_depth':[8,9,11,12,25,15,30]}\n",
        "\n",
        "gridsearchcv = GridSearchCV(RFReg, check_parameters, n_jobs=-1, cv=3)\n",
        "gridsearchcv.fit(X_train, y_train)\n",
        "\n",
        "print('Best parameters found:\\n', gridsearchcv.best_params_)"
      ],
      "metadata": {
        "colab": {
          "base_uri": "https://localhost:8080/"
        },
        "id": "ekOO4O1fV8CU",
        "outputId": "4c811477-89fe-4a39-bd4a-554b417816e9"
      },
      "execution_count": null,
      "outputs": [
        {
          "output_type": "stream",
          "name": "stdout",
          "text": [
            "Best parameters found:\n",
            " {'max_depth': 25}\n"
          ]
        }
      ]
    },
    {
      "cell_type": "code",
      "source": [
        "#importing the ensemble module for the random forest regressor from sklearn library\n",
        "from sklearn.ensemble import RandomForestRegressor\n",
        "\n",
        "# Creating an instance of the random forest regressor\n",
        "RFReg = RandomForestRegressor(max_depth=25, random_state=0)\n",
        "\n",
        "# fitting the regression model to the training data\n",
        "X_train2, X_test2, y_train2, y_test2 = train_test_split(X4, Energy, test_size=0.2, random_state=0, shuffle= \"False\")\n",
        "y_train2 = y_train2.values.ravel()\n",
        "y_test2 = y_test2.values.ravel()\n",
        "RFReg.fit(X_train2, y_train2)\n",
        "\n",
        "#Predicting on the training data\n",
        "Predicted_Train2= RFReg.predict(X_train2)\n",
        "\n",
        "#Caculating R2 score and Root mean square error\n",
        "print(r2_score(y_train2, Predicted_Train2))\n",
        "print(mean_squared_error(y_train2, Predicted_Train2))"
      ],
      "metadata": {
        "colab": {
          "base_uri": "https://localhost:8080/"
        },
        "id": "yEU4T6jJWiUo",
        "outputId": "f39c9092-5002-482e-ae1d-af3e052c74e6"
      },
      "execution_count": null,
      "outputs": [
        {
          "output_type": "stream",
          "name": "stdout",
          "text": [
            "0.986934742482403\n",
            "0.5220195613666745\n"
          ]
        }
      ]
    },
    {
      "cell_type": "code",
      "source": [
        "\n",
        "#Predicting on the test set (X_test)\n",
        "Predicted_Test2 = RFReg.predict(X_test2)\n",
        "\n",
        "#Caculating R2 score and Root mean square error\n",
        "print(r2_score(y_test2,Predicted_Test2))\n",
        "print(mean_squared_error(y_test2,Predicted_Test2))"
      ],
      "metadata": {
        "colab": {
          "base_uri": "https://localhost:8080/"
        },
        "id": "FX2Hd2ClXG7n",
        "outputId": "70955ad2-a09d-4c98-86ad-9901b5d60af0"
      },
      "execution_count": null,
      "outputs": [
        {
          "output_type": "stream",
          "name": "stdout",
          "text": [
            "0.9060219731906514\n",
            "3.734408762006174\n"
          ]
        }
      ]
    },
    {
      "cell_type": "markdown",
      "source": [
        "Allocate budget using predictive modeling\n",
        "With the help of energy price and predicted demand, we can calculate the estimated cost of energy for the month of January. Now we have a trained model.\n",
        "\n"
      ],
      "metadata": {
        "id": "s847OjRJXbC5"
      }
    },
    {
      "cell_type": "code",
      "source": [
        "# Import the weather cost file\n",
        "path= \"/content/Weather_Cost.xlsx\"\n",
        "weather_cost = pd.read_excel(path)\n",
        "weather_cost"
      ],
      "metadata": {
        "colab": {
          "base_uri": "https://localhost:8080/",
          "height": 424
        },
        "id": "IQAyr4XGXLxR",
        "outputId": "0860bedd-ae9f-42d4-e470-6849e24f4ec8"
      },
      "execution_count": null,
      "outputs": [
        {
          "output_type": "execute_result",
          "data": {
            "text/plain": [
              "                   Time  month  HH  TD   U  Temp  RH  Q  DR  FF  FX      P\n",
              "0   2019-01-01 00:00:00      1   1  68  96    73   1  0   6  40  90  10323\n",
              "1   2019-01-01 01:00:00      1   2  65  94    74  -1  0   0  40  70  10320\n",
              "2   2019-01-01 02:00:00      1   3  63  93    73   0  0   0  40  70  10314\n",
              "3   2019-01-01 03:00:00      1   4  61  92    73   0  0   0  50  60  10308\n",
              "4   2019-01-01 04:00:00      1   5  58  92    69   0  0   0  50  70  10299\n",
              "..                  ...    ...  ..  ..  ..   ...  .. ..  ..  ..  ..    ...\n",
              "739 2019-01-31 19:00:00      1  20 -24  93   -15   0  0   0  30  60   9929\n",
              "740 2019-01-31 20:00:00      1  21 -22  95   -15   0  0   0  30  60   9920\n",
              "741 2019-01-31 21:00:00      1  22 -24  91   -11   0  0   0  40  70   9911\n",
              "742 2019-01-31 22:00:00      1  23 -25  87    -6   0  0   0  50  80   9900\n",
              "743 2019-01-31 23:00:00      1  24 -25  86    -4   0  0   0  50  90   9893\n",
              "\n",
              "[744 rows x 12 columns]"
            ],
            "text/html": [
              "\n",
              "  <div id=\"df-67df1029-9a6d-4980-9d9e-934cd071e812\">\n",
              "    <div class=\"colab-df-container\">\n",
              "      <div>\n",
              "<style scoped>\n",
              "    .dataframe tbody tr th:only-of-type {\n",
              "        vertical-align: middle;\n",
              "    }\n",
              "\n",
              "    .dataframe tbody tr th {\n",
              "        vertical-align: top;\n",
              "    }\n",
              "\n",
              "    .dataframe thead th {\n",
              "        text-align: right;\n",
              "    }\n",
              "</style>\n",
              "<table border=\"1\" class=\"dataframe\">\n",
              "  <thead>\n",
              "    <tr style=\"text-align: right;\">\n",
              "      <th></th>\n",
              "      <th>Time</th>\n",
              "      <th>month</th>\n",
              "      <th>HH</th>\n",
              "      <th>TD</th>\n",
              "      <th>U</th>\n",
              "      <th>Temp</th>\n",
              "      <th>RH</th>\n",
              "      <th>Q</th>\n",
              "      <th>DR</th>\n",
              "      <th>FF</th>\n",
              "      <th>FX</th>\n",
              "      <th>P</th>\n",
              "    </tr>\n",
              "  </thead>\n",
              "  <tbody>\n",
              "    <tr>\n",
              "      <th>0</th>\n",
              "      <td>2019-01-01 00:00:00</td>\n",
              "      <td>1</td>\n",
              "      <td>1</td>\n",
              "      <td>68</td>\n",
              "      <td>96</td>\n",
              "      <td>73</td>\n",
              "      <td>1</td>\n",
              "      <td>0</td>\n",
              "      <td>6</td>\n",
              "      <td>40</td>\n",
              "      <td>90</td>\n",
              "      <td>10323</td>\n",
              "    </tr>\n",
              "    <tr>\n",
              "      <th>1</th>\n",
              "      <td>2019-01-01 01:00:00</td>\n",
              "      <td>1</td>\n",
              "      <td>2</td>\n",
              "      <td>65</td>\n",
              "      <td>94</td>\n",
              "      <td>74</td>\n",
              "      <td>-1</td>\n",
              "      <td>0</td>\n",
              "      <td>0</td>\n",
              "      <td>40</td>\n",
              "      <td>70</td>\n",
              "      <td>10320</td>\n",
              "    </tr>\n",
              "    <tr>\n",
              "      <th>2</th>\n",
              "      <td>2019-01-01 02:00:00</td>\n",
              "      <td>1</td>\n",
              "      <td>3</td>\n",
              "      <td>63</td>\n",
              "      <td>93</td>\n",
              "      <td>73</td>\n",
              "      <td>0</td>\n",
              "      <td>0</td>\n",
              "      <td>0</td>\n",
              "      <td>40</td>\n",
              "      <td>70</td>\n",
              "      <td>10314</td>\n",
              "    </tr>\n",
              "    <tr>\n",
              "      <th>3</th>\n",
              "      <td>2019-01-01 03:00:00</td>\n",
              "      <td>1</td>\n",
              "      <td>4</td>\n",
              "      <td>61</td>\n",
              "      <td>92</td>\n",
              "      <td>73</td>\n",
              "      <td>0</td>\n",
              "      <td>0</td>\n",
              "      <td>0</td>\n",
              "      <td>50</td>\n",
              "      <td>60</td>\n",
              "      <td>10308</td>\n",
              "    </tr>\n",
              "    <tr>\n",
              "      <th>4</th>\n",
              "      <td>2019-01-01 04:00:00</td>\n",
              "      <td>1</td>\n",
              "      <td>5</td>\n",
              "      <td>58</td>\n",
              "      <td>92</td>\n",
              "      <td>69</td>\n",
              "      <td>0</td>\n",
              "      <td>0</td>\n",
              "      <td>0</td>\n",
              "      <td>50</td>\n",
              "      <td>70</td>\n",
              "      <td>10299</td>\n",
              "    </tr>\n",
              "    <tr>\n",
              "      <th>...</th>\n",
              "      <td>...</td>\n",
              "      <td>...</td>\n",
              "      <td>...</td>\n",
              "      <td>...</td>\n",
              "      <td>...</td>\n",
              "      <td>...</td>\n",
              "      <td>...</td>\n",
              "      <td>...</td>\n",
              "      <td>...</td>\n",
              "      <td>...</td>\n",
              "      <td>...</td>\n",
              "      <td>...</td>\n",
              "    </tr>\n",
              "    <tr>\n",
              "      <th>739</th>\n",
              "      <td>2019-01-31 19:00:00</td>\n",
              "      <td>1</td>\n",
              "      <td>20</td>\n",
              "      <td>-24</td>\n",
              "      <td>93</td>\n",
              "      <td>-15</td>\n",
              "      <td>0</td>\n",
              "      <td>0</td>\n",
              "      <td>0</td>\n",
              "      <td>30</td>\n",
              "      <td>60</td>\n",
              "      <td>9929</td>\n",
              "    </tr>\n",
              "    <tr>\n",
              "      <th>740</th>\n",
              "      <td>2019-01-31 20:00:00</td>\n",
              "      <td>1</td>\n",
              "      <td>21</td>\n",
              "      <td>-22</td>\n",
              "      <td>95</td>\n",
              "      <td>-15</td>\n",
              "      <td>0</td>\n",
              "      <td>0</td>\n",
              "      <td>0</td>\n",
              "      <td>30</td>\n",
              "      <td>60</td>\n",
              "      <td>9920</td>\n",
              "    </tr>\n",
              "    <tr>\n",
              "      <th>741</th>\n",
              "      <td>2019-01-31 21:00:00</td>\n",
              "      <td>1</td>\n",
              "      <td>22</td>\n",
              "      <td>-24</td>\n",
              "      <td>91</td>\n",
              "      <td>-11</td>\n",
              "      <td>0</td>\n",
              "      <td>0</td>\n",
              "      <td>0</td>\n",
              "      <td>40</td>\n",
              "      <td>70</td>\n",
              "      <td>9911</td>\n",
              "    </tr>\n",
              "    <tr>\n",
              "      <th>742</th>\n",
              "      <td>2019-01-31 22:00:00</td>\n",
              "      <td>1</td>\n",
              "      <td>23</td>\n",
              "      <td>-25</td>\n",
              "      <td>87</td>\n",
              "      <td>-6</td>\n",
              "      <td>0</td>\n",
              "      <td>0</td>\n",
              "      <td>0</td>\n",
              "      <td>50</td>\n",
              "      <td>80</td>\n",
              "      <td>9900</td>\n",
              "    </tr>\n",
              "    <tr>\n",
              "      <th>743</th>\n",
              "      <td>2019-01-31 23:00:00</td>\n",
              "      <td>1</td>\n",
              "      <td>24</td>\n",
              "      <td>-25</td>\n",
              "      <td>86</td>\n",
              "      <td>-4</td>\n",
              "      <td>0</td>\n",
              "      <td>0</td>\n",
              "      <td>0</td>\n",
              "      <td>50</td>\n",
              "      <td>90</td>\n",
              "      <td>9893</td>\n",
              "    </tr>\n",
              "  </tbody>\n",
              "</table>\n",
              "<p>744 rows × 12 columns</p>\n",
              "</div>\n",
              "      <button class=\"colab-df-convert\" onclick=\"convertToInteractive('df-67df1029-9a6d-4980-9d9e-934cd071e812')\"\n",
              "              title=\"Convert this dataframe to an interactive table.\"\n",
              "              style=\"display:none;\">\n",
              "        \n",
              "  <svg xmlns=\"http://www.w3.org/2000/svg\" height=\"24px\"viewBox=\"0 0 24 24\"\n",
              "       width=\"24px\">\n",
              "    <path d=\"M0 0h24v24H0V0z\" fill=\"none\"/>\n",
              "    <path d=\"M18.56 5.44l.94 2.06.94-2.06 2.06-.94-2.06-.94-.94-2.06-.94 2.06-2.06.94zm-11 1L8.5 8.5l.94-2.06 2.06-.94-2.06-.94L8.5 2.5l-.94 2.06-2.06.94zm10 10l.94 2.06.94-2.06 2.06-.94-2.06-.94-.94-2.06-.94 2.06-2.06.94z\"/><path d=\"M17.41 7.96l-1.37-1.37c-.4-.4-.92-.59-1.43-.59-.52 0-1.04.2-1.43.59L10.3 9.45l-7.72 7.72c-.78.78-.78 2.05 0 2.83L4 21.41c.39.39.9.59 1.41.59.51 0 1.02-.2 1.41-.59l7.78-7.78 2.81-2.81c.8-.78.8-2.07 0-2.86zM5.41 20L4 18.59l7.72-7.72 1.47 1.35L5.41 20z\"/>\n",
              "  </svg>\n",
              "      </button>\n",
              "      \n",
              "  <style>\n",
              "    .colab-df-container {\n",
              "      display:flex;\n",
              "      flex-wrap:wrap;\n",
              "      gap: 12px;\n",
              "    }\n",
              "\n",
              "    .colab-df-convert {\n",
              "      background-color: #E8F0FE;\n",
              "      border: none;\n",
              "      border-radius: 50%;\n",
              "      cursor: pointer;\n",
              "      display: none;\n",
              "      fill: #1967D2;\n",
              "      height: 32px;\n",
              "      padding: 0 0 0 0;\n",
              "      width: 32px;\n",
              "    }\n",
              "\n",
              "    .colab-df-convert:hover {\n",
              "      background-color: #E2EBFA;\n",
              "      box-shadow: 0px 1px 2px rgba(60, 64, 67, 0.3), 0px 1px 3px 1px rgba(60, 64, 67, 0.15);\n",
              "      fill: #174EA6;\n",
              "    }\n",
              "\n",
              "    [theme=dark] .colab-df-convert {\n",
              "      background-color: #3B4455;\n",
              "      fill: #D2E3FC;\n",
              "    }\n",
              "\n",
              "    [theme=dark] .colab-df-convert:hover {\n",
              "      background-color: #434B5C;\n",
              "      box-shadow: 0px 1px 3px 1px rgba(0, 0, 0, 0.15);\n",
              "      filter: drop-shadow(0px 1px 2px rgba(0, 0, 0, 0.3));\n",
              "      fill: #FFFFFF;\n",
              "    }\n",
              "  </style>\n",
              "\n",
              "      <script>\n",
              "        const buttonEl =\n",
              "          document.querySelector('#df-67df1029-9a6d-4980-9d9e-934cd071e812 button.colab-df-convert');\n",
              "        buttonEl.style.display =\n",
              "          google.colab.kernel.accessAllowed ? 'block' : 'none';\n",
              "\n",
              "        async function convertToInteractive(key) {\n",
              "          const element = document.querySelector('#df-67df1029-9a6d-4980-9d9e-934cd071e812');\n",
              "          const dataTable =\n",
              "            await google.colab.kernel.invokeFunction('convertToInteractive',\n",
              "                                                     [key], {});\n",
              "          if (!dataTable) return;\n",
              "\n",
              "          const docLinkHtml = 'Like what you see? Visit the ' +\n",
              "            '<a target=\"_blank\" href=https://colab.research.google.com/notebooks/data_table.ipynb>data table notebook</a>'\n",
              "            + ' to learn more about interactive tables.';\n",
              "          element.innerHTML = '';\n",
              "          dataTable['output_type'] = 'display_data';\n",
              "          await google.colab.output.renderOutput(dataTable, element);\n",
              "          const docLink = document.createElement('div');\n",
              "          docLink.innerHTML = docLinkHtml;\n",
              "          element.appendChild(docLink);\n",
              "        }\n",
              "      </script>\n",
              "    </div>\n",
              "  </div>\n",
              "  "
            ]
          },
          "metadata": {},
          "execution_count": 56
        }
      ]
    },
    {
      "cell_type": "code",
      "source": [
        "weather_cost = weather_cost.set_index('Time')"
      ],
      "metadata": {
        "id": "X3HqLbxKXPKM"
      },
      "execution_count": null,
      "outputs": []
    },
    {
      "cell_type": "code",
      "source": [
        "weather_cost.isna().sum()#check missing value"
      ],
      "metadata": {
        "colab": {
          "base_uri": "https://localhost:8080/"
        },
        "id": "xz19rXRhXkN-",
        "outputId": "46588ecd-8bf7-4289-d88f-c80b08109a4a"
      },
      "execution_count": null,
      "outputs": [
        {
          "output_type": "execute_result",
          "data": {
            "text/plain": [
              "month    0\n",
              "HH       0\n",
              "TD       0\n",
              "U        0\n",
              "Temp     0\n",
              "RH       0\n",
              "Q        0\n",
              "DR       0\n",
              "FF       0\n",
              "FX       0\n",
              "P        0\n",
              "dtype: int64"
            ]
          },
          "metadata": {},
          "execution_count": 59
        }
      ]
    },
    {
      "cell_type": "code",
      "source": [
        "#remove relative humidity column from the data set\n",
        "weather_cost_updated= weather_cost.loc[:, ~weather_cost.columns.isin(['U'])]"
      ],
      "metadata": {
        "id": "HZ64i1ThXoYA"
      },
      "execution_count": null,
      "outputs": []
    },
    {
      "cell_type": "code",
      "source": [
        "#scale the input data\n",
        "X5 = sc1.transform(weather_cost_updated)"
      ],
      "metadata": {
        "id": "6RtWy19nXt2T"
      },
      "execution_count": null,
      "outputs": []
    },
    {
      "cell_type": "code",
      "source": [
        "#predict the consumption\n",
        "predicted = RFReg.predict(X5)\n",
        "predicted.shape"
      ],
      "metadata": {
        "colab": {
          "base_uri": "https://localhost:8080/"
        },
        "id": "Fw7b8y7xXwgM",
        "outputId": "d576887d-9fa7-433f-9af9-106b162fcf84"
      },
      "execution_count": null,
      "outputs": [
        {
          "output_type": "execute_result",
          "data": {
            "text/plain": [
              "(744,)"
            ]
          },
          "metadata": {},
          "execution_count": 62
        }
      ]
    },
    {
      "cell_type": "code",
      "source": [
        "#Converting the predicted array into a dataframe so it is easier when plotting to show the time index\n",
        "predicted= pd.DataFrame(predicted, columns=['kWh'])\n",
        "predicted"
      ],
      "metadata": {
        "colab": {
          "base_uri": "https://localhost:8080/",
          "height": 424
        },
        "id": "7Txf17d7Xzbp",
        "outputId": "19968569-03ef-4dd5-b85f-340f2258e706"
      },
      "execution_count": null,
      "outputs": [
        {
          "output_type": "execute_result",
          "data": {
            "text/plain": [
              "           kWh\n",
              "0    45.039781\n",
              "1    44.971493\n",
              "2    45.037427\n",
              "3    45.171649\n",
              "4    45.060974\n",
              "..         ...\n",
              "739  22.662355\n",
              "740  22.636452\n",
              "741  22.619969\n",
              "742  22.565809\n",
              "743  22.306784\n",
              "\n",
              "[744 rows x 1 columns]"
            ],
            "text/html": [
              "\n",
              "  <div id=\"df-11b44369-6353-464a-9bbe-eff081c8c830\">\n",
              "    <div class=\"colab-df-container\">\n",
              "      <div>\n",
              "<style scoped>\n",
              "    .dataframe tbody tr th:only-of-type {\n",
              "        vertical-align: middle;\n",
              "    }\n",
              "\n",
              "    .dataframe tbody tr th {\n",
              "        vertical-align: top;\n",
              "    }\n",
              "\n",
              "    .dataframe thead th {\n",
              "        text-align: right;\n",
              "    }\n",
              "</style>\n",
              "<table border=\"1\" class=\"dataframe\">\n",
              "  <thead>\n",
              "    <tr style=\"text-align: right;\">\n",
              "      <th></th>\n",
              "      <th>kWh</th>\n",
              "    </tr>\n",
              "  </thead>\n",
              "  <tbody>\n",
              "    <tr>\n",
              "      <th>0</th>\n",
              "      <td>45.039781</td>\n",
              "    </tr>\n",
              "    <tr>\n",
              "      <th>1</th>\n",
              "      <td>44.971493</td>\n",
              "    </tr>\n",
              "    <tr>\n",
              "      <th>2</th>\n",
              "      <td>45.037427</td>\n",
              "    </tr>\n",
              "    <tr>\n",
              "      <th>3</th>\n",
              "      <td>45.171649</td>\n",
              "    </tr>\n",
              "    <tr>\n",
              "      <th>4</th>\n",
              "      <td>45.060974</td>\n",
              "    </tr>\n",
              "    <tr>\n",
              "      <th>...</th>\n",
              "      <td>...</td>\n",
              "    </tr>\n",
              "    <tr>\n",
              "      <th>739</th>\n",
              "      <td>22.662355</td>\n",
              "    </tr>\n",
              "    <tr>\n",
              "      <th>740</th>\n",
              "      <td>22.636452</td>\n",
              "    </tr>\n",
              "    <tr>\n",
              "      <th>741</th>\n",
              "      <td>22.619969</td>\n",
              "    </tr>\n",
              "    <tr>\n",
              "      <th>742</th>\n",
              "      <td>22.565809</td>\n",
              "    </tr>\n",
              "    <tr>\n",
              "      <th>743</th>\n",
              "      <td>22.306784</td>\n",
              "    </tr>\n",
              "  </tbody>\n",
              "</table>\n",
              "<p>744 rows × 1 columns</p>\n",
              "</div>\n",
              "      <button class=\"colab-df-convert\" onclick=\"convertToInteractive('df-11b44369-6353-464a-9bbe-eff081c8c830')\"\n",
              "              title=\"Convert this dataframe to an interactive table.\"\n",
              "              style=\"display:none;\">\n",
              "        \n",
              "  <svg xmlns=\"http://www.w3.org/2000/svg\" height=\"24px\"viewBox=\"0 0 24 24\"\n",
              "       width=\"24px\">\n",
              "    <path d=\"M0 0h24v24H0V0z\" fill=\"none\"/>\n",
              "    <path d=\"M18.56 5.44l.94 2.06.94-2.06 2.06-.94-2.06-.94-.94-2.06-.94 2.06-2.06.94zm-11 1L8.5 8.5l.94-2.06 2.06-.94-2.06-.94L8.5 2.5l-.94 2.06-2.06.94zm10 10l.94 2.06.94-2.06 2.06-.94-2.06-.94-.94-2.06-.94 2.06-2.06.94z\"/><path d=\"M17.41 7.96l-1.37-1.37c-.4-.4-.92-.59-1.43-.59-.52 0-1.04.2-1.43.59L10.3 9.45l-7.72 7.72c-.78.78-.78 2.05 0 2.83L4 21.41c.39.39.9.59 1.41.59.51 0 1.02-.2 1.41-.59l7.78-7.78 2.81-2.81c.8-.78.8-2.07 0-2.86zM5.41 20L4 18.59l7.72-7.72 1.47 1.35L5.41 20z\"/>\n",
              "  </svg>\n",
              "      </button>\n",
              "      \n",
              "  <style>\n",
              "    .colab-df-container {\n",
              "      display:flex;\n",
              "      flex-wrap:wrap;\n",
              "      gap: 12px;\n",
              "    }\n",
              "\n",
              "    .colab-df-convert {\n",
              "      background-color: #E8F0FE;\n",
              "      border: none;\n",
              "      border-radius: 50%;\n",
              "      cursor: pointer;\n",
              "      display: none;\n",
              "      fill: #1967D2;\n",
              "      height: 32px;\n",
              "      padding: 0 0 0 0;\n",
              "      width: 32px;\n",
              "    }\n",
              "\n",
              "    .colab-df-convert:hover {\n",
              "      background-color: #E2EBFA;\n",
              "      box-shadow: 0px 1px 2px rgba(60, 64, 67, 0.3), 0px 1px 3px 1px rgba(60, 64, 67, 0.15);\n",
              "      fill: #174EA6;\n",
              "    }\n",
              "\n",
              "    [theme=dark] .colab-df-convert {\n",
              "      background-color: #3B4455;\n",
              "      fill: #D2E3FC;\n",
              "    }\n",
              "\n",
              "    [theme=dark] .colab-df-convert:hover {\n",
              "      background-color: #434B5C;\n",
              "      box-shadow: 0px 1px 3px 1px rgba(0, 0, 0, 0.15);\n",
              "      filter: drop-shadow(0px 1px 2px rgba(0, 0, 0, 0.3));\n",
              "      fill: #FFFFFF;\n",
              "    }\n",
              "  </style>\n",
              "\n",
              "      <script>\n",
              "        const buttonEl =\n",
              "          document.querySelector('#df-11b44369-6353-464a-9bbe-eff081c8c830 button.colab-df-convert');\n",
              "        buttonEl.style.display =\n",
              "          google.colab.kernel.accessAllowed ? 'block' : 'none';\n",
              "\n",
              "        async function convertToInteractive(key) {\n",
              "          const element = document.querySelector('#df-11b44369-6353-464a-9bbe-eff081c8c830');\n",
              "          const dataTable =\n",
              "            await google.colab.kernel.invokeFunction('convertToInteractive',\n",
              "                                                     [key], {});\n",
              "          if (!dataTable) return;\n",
              "\n",
              "          const docLinkHtml = 'Like what you see? Visit the ' +\n",
              "            '<a target=\"_blank\" href=https://colab.research.google.com/notebooks/data_table.ipynb>data table notebook</a>'\n",
              "            + ' to learn more about interactive tables.';\n",
              "          element.innerHTML = '';\n",
              "          dataTable['output_type'] = 'display_data';\n",
              "          await google.colab.output.renderOutput(dataTable, element);\n",
              "          const docLink = document.createElement('div');\n",
              "          docLink.innerHTML = docLinkHtml;\n",
              "          element.appendChild(docLink);\n",
              "        }\n",
              "      </script>\n",
              "    </div>\n",
              "  </div>\n",
              "  "
            ]
          },
          "metadata": {},
          "execution_count": 63
        }
      ]
    },
    {
      "cell_type": "code",
      "source": [
        "#Import the index from the weather cost file\n",
        "predicted['Time']= weather_cost.index\n",
        "predicted"
      ],
      "metadata": {
        "colab": {
          "base_uri": "https://localhost:8080/",
          "height": 424
        },
        "id": "VqFogv1cYE79",
        "outputId": "3561eae0-e25c-4d08-9dcd-06af76446b6c"
      },
      "execution_count": null,
      "outputs": [
        {
          "output_type": "execute_result",
          "data": {
            "text/plain": [
              "           kWh                Time\n",
              "0    45.039781 2019-01-01 00:00:00\n",
              "1    44.971493 2019-01-01 01:00:00\n",
              "2    45.037427 2019-01-01 02:00:00\n",
              "3    45.171649 2019-01-01 03:00:00\n",
              "4    45.060974 2019-01-01 04:00:00\n",
              "..         ...                 ...\n",
              "739  22.662355 2019-01-31 19:00:00\n",
              "740  22.636452 2019-01-31 20:00:00\n",
              "741  22.619969 2019-01-31 21:00:00\n",
              "742  22.565809 2019-01-31 22:00:00\n",
              "743  22.306784 2019-01-31 23:00:00\n",
              "\n",
              "[744 rows x 2 columns]"
            ],
            "text/html": [
              "\n",
              "  <div id=\"df-918662a7-62df-4966-9984-f91282939b2e\">\n",
              "    <div class=\"colab-df-container\">\n",
              "      <div>\n",
              "<style scoped>\n",
              "    .dataframe tbody tr th:only-of-type {\n",
              "        vertical-align: middle;\n",
              "    }\n",
              "\n",
              "    .dataframe tbody tr th {\n",
              "        vertical-align: top;\n",
              "    }\n",
              "\n",
              "    .dataframe thead th {\n",
              "        text-align: right;\n",
              "    }\n",
              "</style>\n",
              "<table border=\"1\" class=\"dataframe\">\n",
              "  <thead>\n",
              "    <tr style=\"text-align: right;\">\n",
              "      <th></th>\n",
              "      <th>kWh</th>\n",
              "      <th>Time</th>\n",
              "    </tr>\n",
              "  </thead>\n",
              "  <tbody>\n",
              "    <tr>\n",
              "      <th>0</th>\n",
              "      <td>45.039781</td>\n",
              "      <td>2019-01-01 00:00:00</td>\n",
              "    </tr>\n",
              "    <tr>\n",
              "      <th>1</th>\n",
              "      <td>44.971493</td>\n",
              "      <td>2019-01-01 01:00:00</td>\n",
              "    </tr>\n",
              "    <tr>\n",
              "      <th>2</th>\n",
              "      <td>45.037427</td>\n",
              "      <td>2019-01-01 02:00:00</td>\n",
              "    </tr>\n",
              "    <tr>\n",
              "      <th>3</th>\n",
              "      <td>45.171649</td>\n",
              "      <td>2019-01-01 03:00:00</td>\n",
              "    </tr>\n",
              "    <tr>\n",
              "      <th>4</th>\n",
              "      <td>45.060974</td>\n",
              "      <td>2019-01-01 04:00:00</td>\n",
              "    </tr>\n",
              "    <tr>\n",
              "      <th>...</th>\n",
              "      <td>...</td>\n",
              "      <td>...</td>\n",
              "    </tr>\n",
              "    <tr>\n",
              "      <th>739</th>\n",
              "      <td>22.662355</td>\n",
              "      <td>2019-01-31 19:00:00</td>\n",
              "    </tr>\n",
              "    <tr>\n",
              "      <th>740</th>\n",
              "      <td>22.636452</td>\n",
              "      <td>2019-01-31 20:00:00</td>\n",
              "    </tr>\n",
              "    <tr>\n",
              "      <th>741</th>\n",
              "      <td>22.619969</td>\n",
              "      <td>2019-01-31 21:00:00</td>\n",
              "    </tr>\n",
              "    <tr>\n",
              "      <th>742</th>\n",
              "      <td>22.565809</td>\n",
              "      <td>2019-01-31 22:00:00</td>\n",
              "    </tr>\n",
              "    <tr>\n",
              "      <th>743</th>\n",
              "      <td>22.306784</td>\n",
              "      <td>2019-01-31 23:00:00</td>\n",
              "    </tr>\n",
              "  </tbody>\n",
              "</table>\n",
              "<p>744 rows × 2 columns</p>\n",
              "</div>\n",
              "      <button class=\"colab-df-convert\" onclick=\"convertToInteractive('df-918662a7-62df-4966-9984-f91282939b2e')\"\n",
              "              title=\"Convert this dataframe to an interactive table.\"\n",
              "              style=\"display:none;\">\n",
              "        \n",
              "  <svg xmlns=\"http://www.w3.org/2000/svg\" height=\"24px\"viewBox=\"0 0 24 24\"\n",
              "       width=\"24px\">\n",
              "    <path d=\"M0 0h24v24H0V0z\" fill=\"none\"/>\n",
              "    <path d=\"M18.56 5.44l.94 2.06.94-2.06 2.06-.94-2.06-.94-.94-2.06-.94 2.06-2.06.94zm-11 1L8.5 8.5l.94-2.06 2.06-.94-2.06-.94L8.5 2.5l-.94 2.06-2.06.94zm10 10l.94 2.06.94-2.06 2.06-.94-2.06-.94-.94-2.06-.94 2.06-2.06.94z\"/><path d=\"M17.41 7.96l-1.37-1.37c-.4-.4-.92-.59-1.43-.59-.52 0-1.04.2-1.43.59L10.3 9.45l-7.72 7.72c-.78.78-.78 2.05 0 2.83L4 21.41c.39.39.9.59 1.41.59.51 0 1.02-.2 1.41-.59l7.78-7.78 2.81-2.81c.8-.78.8-2.07 0-2.86zM5.41 20L4 18.59l7.72-7.72 1.47 1.35L5.41 20z\"/>\n",
              "  </svg>\n",
              "      </button>\n",
              "      \n",
              "  <style>\n",
              "    .colab-df-container {\n",
              "      display:flex;\n",
              "      flex-wrap:wrap;\n",
              "      gap: 12px;\n",
              "    }\n",
              "\n",
              "    .colab-df-convert {\n",
              "      background-color: #E8F0FE;\n",
              "      border: none;\n",
              "      border-radius: 50%;\n",
              "      cursor: pointer;\n",
              "      display: none;\n",
              "      fill: #1967D2;\n",
              "      height: 32px;\n",
              "      padding: 0 0 0 0;\n",
              "      width: 32px;\n",
              "    }\n",
              "\n",
              "    .colab-df-convert:hover {\n",
              "      background-color: #E2EBFA;\n",
              "      box-shadow: 0px 1px 2px rgba(60, 64, 67, 0.3), 0px 1px 3px 1px rgba(60, 64, 67, 0.15);\n",
              "      fill: #174EA6;\n",
              "    }\n",
              "\n",
              "    [theme=dark] .colab-df-convert {\n",
              "      background-color: #3B4455;\n",
              "      fill: #D2E3FC;\n",
              "    }\n",
              "\n",
              "    [theme=dark] .colab-df-convert:hover {\n",
              "      background-color: #434B5C;\n",
              "      box-shadow: 0px 1px 3px 1px rgba(0, 0, 0, 0.15);\n",
              "      filter: drop-shadow(0px 1px 2px rgba(0, 0, 0, 0.3));\n",
              "      fill: #FFFFFF;\n",
              "    }\n",
              "  </style>\n",
              "\n",
              "      <script>\n",
              "        const buttonEl =\n",
              "          document.querySelector('#df-918662a7-62df-4966-9984-f91282939b2e button.colab-df-convert');\n",
              "        buttonEl.style.display =\n",
              "          google.colab.kernel.accessAllowed ? 'block' : 'none';\n",
              "\n",
              "        async function convertToInteractive(key) {\n",
              "          const element = document.querySelector('#df-918662a7-62df-4966-9984-f91282939b2e');\n",
              "          const dataTable =\n",
              "            await google.colab.kernel.invokeFunction('convertToInteractive',\n",
              "                                                     [key], {});\n",
              "          if (!dataTable) return;\n",
              "\n",
              "          const docLinkHtml = 'Like what you see? Visit the ' +\n",
              "            '<a target=\"_blank\" href=https://colab.research.google.com/notebooks/data_table.ipynb>data table notebook</a>'\n",
              "            + ' to learn more about interactive tables.';\n",
              "          element.innerHTML = '';\n",
              "          dataTable['output_type'] = 'display_data';\n",
              "          await google.colab.output.renderOutput(dataTable, element);\n",
              "          const docLink = document.createElement('div');\n",
              "          docLink.innerHTML = docLinkHtml;\n",
              "          element.appendChild(docLink);\n",
              "        }\n",
              "      </script>\n",
              "    </div>\n",
              "  </div>\n",
              "  "
            ]
          },
          "metadata": {},
          "execution_count": 64
        }
      ]
    },
    {
      "cell_type": "code",
      "source": [
        "#Set the time column as index\n",
        "predicted= predicted.set_index('Time')\n",
        "predicted"
      ],
      "metadata": {
        "colab": {
          "base_uri": "https://localhost:8080/",
          "height": 455
        },
        "id": "XlizJ-EfYKVX",
        "outputId": "73d191b9-f5e2-4fcf-aac0-98ee88b884c9"
      },
      "execution_count": null,
      "outputs": [
        {
          "output_type": "execute_result",
          "data": {
            "text/plain": [
              "                           kWh\n",
              "Time                          \n",
              "2019-01-01 00:00:00  45.039781\n",
              "2019-01-01 01:00:00  44.971493\n",
              "2019-01-01 02:00:00  45.037427\n",
              "2019-01-01 03:00:00  45.171649\n",
              "2019-01-01 04:00:00  45.060974\n",
              "...                        ...\n",
              "2019-01-31 19:00:00  22.662355\n",
              "2019-01-31 20:00:00  22.636452\n",
              "2019-01-31 21:00:00  22.619969\n",
              "2019-01-31 22:00:00  22.565809\n",
              "2019-01-31 23:00:00  22.306784\n",
              "\n",
              "[744 rows x 1 columns]"
            ],
            "text/html": [
              "\n",
              "  <div id=\"df-6badff79-bc1a-447b-b7ed-50dcd8fb1230\">\n",
              "    <div class=\"colab-df-container\">\n",
              "      <div>\n",
              "<style scoped>\n",
              "    .dataframe tbody tr th:only-of-type {\n",
              "        vertical-align: middle;\n",
              "    }\n",
              "\n",
              "    .dataframe tbody tr th {\n",
              "        vertical-align: top;\n",
              "    }\n",
              "\n",
              "    .dataframe thead th {\n",
              "        text-align: right;\n",
              "    }\n",
              "</style>\n",
              "<table border=\"1\" class=\"dataframe\">\n",
              "  <thead>\n",
              "    <tr style=\"text-align: right;\">\n",
              "      <th></th>\n",
              "      <th>kWh</th>\n",
              "    </tr>\n",
              "    <tr>\n",
              "      <th>Time</th>\n",
              "      <th></th>\n",
              "    </tr>\n",
              "  </thead>\n",
              "  <tbody>\n",
              "    <tr>\n",
              "      <th>2019-01-01 00:00:00</th>\n",
              "      <td>45.039781</td>\n",
              "    </tr>\n",
              "    <tr>\n",
              "      <th>2019-01-01 01:00:00</th>\n",
              "      <td>44.971493</td>\n",
              "    </tr>\n",
              "    <tr>\n",
              "      <th>2019-01-01 02:00:00</th>\n",
              "      <td>45.037427</td>\n",
              "    </tr>\n",
              "    <tr>\n",
              "      <th>2019-01-01 03:00:00</th>\n",
              "      <td>45.171649</td>\n",
              "    </tr>\n",
              "    <tr>\n",
              "      <th>2019-01-01 04:00:00</th>\n",
              "      <td>45.060974</td>\n",
              "    </tr>\n",
              "    <tr>\n",
              "      <th>...</th>\n",
              "      <td>...</td>\n",
              "    </tr>\n",
              "    <tr>\n",
              "      <th>2019-01-31 19:00:00</th>\n",
              "      <td>22.662355</td>\n",
              "    </tr>\n",
              "    <tr>\n",
              "      <th>2019-01-31 20:00:00</th>\n",
              "      <td>22.636452</td>\n",
              "    </tr>\n",
              "    <tr>\n",
              "      <th>2019-01-31 21:00:00</th>\n",
              "      <td>22.619969</td>\n",
              "    </tr>\n",
              "    <tr>\n",
              "      <th>2019-01-31 22:00:00</th>\n",
              "      <td>22.565809</td>\n",
              "    </tr>\n",
              "    <tr>\n",
              "      <th>2019-01-31 23:00:00</th>\n",
              "      <td>22.306784</td>\n",
              "    </tr>\n",
              "  </tbody>\n",
              "</table>\n",
              "<p>744 rows × 1 columns</p>\n",
              "</div>\n",
              "      <button class=\"colab-df-convert\" onclick=\"convertToInteractive('df-6badff79-bc1a-447b-b7ed-50dcd8fb1230')\"\n",
              "              title=\"Convert this dataframe to an interactive table.\"\n",
              "              style=\"display:none;\">\n",
              "        \n",
              "  <svg xmlns=\"http://www.w3.org/2000/svg\" height=\"24px\"viewBox=\"0 0 24 24\"\n",
              "       width=\"24px\">\n",
              "    <path d=\"M0 0h24v24H0V0z\" fill=\"none\"/>\n",
              "    <path d=\"M18.56 5.44l.94 2.06.94-2.06 2.06-.94-2.06-.94-.94-2.06-.94 2.06-2.06.94zm-11 1L8.5 8.5l.94-2.06 2.06-.94-2.06-.94L8.5 2.5l-.94 2.06-2.06.94zm10 10l.94 2.06.94-2.06 2.06-.94-2.06-.94-.94-2.06-.94 2.06-2.06.94z\"/><path d=\"M17.41 7.96l-1.37-1.37c-.4-.4-.92-.59-1.43-.59-.52 0-1.04.2-1.43.59L10.3 9.45l-7.72 7.72c-.78.78-.78 2.05 0 2.83L4 21.41c.39.39.9.59 1.41.59.51 0 1.02-.2 1.41-.59l7.78-7.78 2.81-2.81c.8-.78.8-2.07 0-2.86zM5.41 20L4 18.59l7.72-7.72 1.47 1.35L5.41 20z\"/>\n",
              "  </svg>\n",
              "      </button>\n",
              "      \n",
              "  <style>\n",
              "    .colab-df-container {\n",
              "      display:flex;\n",
              "      flex-wrap:wrap;\n",
              "      gap: 12px;\n",
              "    }\n",
              "\n",
              "    .colab-df-convert {\n",
              "      background-color: #E8F0FE;\n",
              "      border: none;\n",
              "      border-radius: 50%;\n",
              "      cursor: pointer;\n",
              "      display: none;\n",
              "      fill: #1967D2;\n",
              "      height: 32px;\n",
              "      padding: 0 0 0 0;\n",
              "      width: 32px;\n",
              "    }\n",
              "\n",
              "    .colab-df-convert:hover {\n",
              "      background-color: #E2EBFA;\n",
              "      box-shadow: 0px 1px 2px rgba(60, 64, 67, 0.3), 0px 1px 3px 1px rgba(60, 64, 67, 0.15);\n",
              "      fill: #174EA6;\n",
              "    }\n",
              "\n",
              "    [theme=dark] .colab-df-convert {\n",
              "      background-color: #3B4455;\n",
              "      fill: #D2E3FC;\n",
              "    }\n",
              "\n",
              "    [theme=dark] .colab-df-convert:hover {\n",
              "      background-color: #434B5C;\n",
              "      box-shadow: 0px 1px 3px 1px rgba(0, 0, 0, 0.15);\n",
              "      filter: drop-shadow(0px 1px 2px rgba(0, 0, 0, 0.3));\n",
              "      fill: #FFFFFF;\n",
              "    }\n",
              "  </style>\n",
              "\n",
              "      <script>\n",
              "        const buttonEl =\n",
              "          document.querySelector('#df-6badff79-bc1a-447b-b7ed-50dcd8fb1230 button.colab-df-convert');\n",
              "        buttonEl.style.display =\n",
              "          google.colab.kernel.accessAllowed ? 'block' : 'none';\n",
              "\n",
              "        async function convertToInteractive(key) {\n",
              "          const element = document.querySelector('#df-6badff79-bc1a-447b-b7ed-50dcd8fb1230');\n",
              "          const dataTable =\n",
              "            await google.colab.kernel.invokeFunction('convertToInteractive',\n",
              "                                                     [key], {});\n",
              "          if (!dataTable) return;\n",
              "\n",
              "          const docLinkHtml = 'Like what you see? Visit the ' +\n",
              "            '<a target=\"_blank\" href=https://colab.research.google.com/notebooks/data_table.ipynb>data table notebook</a>'\n",
              "            + ' to learn more about interactive tables.';\n",
              "          element.innerHTML = '';\n",
              "          dataTable['output_type'] = 'display_data';\n",
              "          await google.colab.output.renderOutput(dataTable, element);\n",
              "          const docLink = document.createElement('div');\n",
              "          docLink.innerHTML = docLinkHtml;\n",
              "          element.appendChild(docLink);\n",
              "        }\n",
              "      </script>\n",
              "    </div>\n",
              "  </div>\n",
              "  "
            ]
          },
          "metadata": {},
          "execution_count": 65
        }
      ]
    },
    {
      "cell_type": "code",
      "source": [
        "#Plot the hourly forecast consumption in kWh \n",
        "fig, ax = plt.subplots(figsize = (16,5))\n",
        "ax.plot(predicted,  label='Hourly Predicted consumption',color = 'blue')\n",
        "ax.set_ylabel('Hourly Predicted consumption [kWh]',size=15, color='green')\n",
        "ax.set_xlabel('Time',size=15)"
      ],
      "metadata": {
        "colab": {
          "base_uri": "https://localhost:8080/",
          "height": 351
        },
        "id": "wd973r3aYTmJ",
        "outputId": "5d361d0c-7b35-4e23-a372-57e3234c5b56"
      },
      "execution_count": null,
      "outputs": [
        {
          "output_type": "execute_result",
          "data": {
            "text/plain": [
              "Text(0.5, 0, 'Time')"
            ]
          },
          "metadata": {},
          "execution_count": 67
        },
        {
          "output_type": "display_data",
          "data": {
            "text/plain": [
              "<Figure size 1152x360 with 1 Axes>"
            ],
            "image/png": "[encoded data removed]"
          },
          "metadata": {
            "needs_background": "light"
          }
        }
      ]
    },
    {
      "cell_type": "markdown",
      "source": [
        "**Plot the hourly forecast consumption in kWh and calculated price for the whole month**"
      ],
      "metadata": {
        "id": "aYX085BrYYj3"
      }
    },
    {
      "cell_type": "code",
      "source": [
        "#Calculating the hourly consumtion cost.\n",
        "Hourly_Cost= predicted*0.23\n",
        "Hourly_Cost"
      ],
      "metadata": {
        "colab": {
          "base_uri": "https://localhost:8080/",
          "height": 455
        },
        "id": "M0rugWiGYey-",
        "outputId": "1dae6cc8-6be3-4f7c-c3c4-fa9dca21353b"
      },
      "execution_count": null,
      "outputs": [
        {
          "output_type": "execute_result",
          "data": {
            "text/plain": [
              "                           kWh\n",
              "Time                          \n",
              "2019-01-01 00:00:00  10.359150\n",
              "2019-01-01 01:00:00  10.343443\n",
              "2019-01-01 02:00:00  10.358608\n",
              "2019-01-01 03:00:00  10.389479\n",
              "2019-01-01 04:00:00  10.364024\n",
              "...                        ...\n",
              "2019-01-31 19:00:00   5.212342\n",
              "2019-01-31 20:00:00   5.206384\n",
              "2019-01-31 21:00:00   5.202593\n",
              "2019-01-31 22:00:00   5.190136\n",
              "2019-01-31 23:00:00   5.130560\n",
              "\n",
              "[744 rows x 1 columns]"
            ],
            "text/html": [
              "\n",
              "  <div id=\"df-ca7eab97-63c7-4af6-87b8-20dbcc6019be\">\n",
              "    <div class=\"colab-df-container\">\n",
              "      <div>\n",
              "<style scoped>\n",
              "    .dataframe tbody tr th:only-of-type {\n",
              "        vertical-align: middle;\n",
              "    }\n",
              "\n",
              "    .dataframe tbody tr th {\n",
              "        vertical-align: top;\n",
              "    }\n",
              "\n",
              "    .dataframe thead th {\n",
              "        text-align: right;\n",
              "    }\n",
              "</style>\n",
              "<table border=\"1\" class=\"dataframe\">\n",
              "  <thead>\n",
              "    <tr style=\"text-align: right;\">\n",
              "      <th></th>\n",
              "      <th>kWh</th>\n",
              "    </tr>\n",
              "    <tr>\n",
              "      <th>Time</th>\n",
              "      <th></th>\n",
              "    </tr>\n",
              "  </thead>\n",
              "  <tbody>\n",
              "    <tr>\n",
              "      <th>2019-01-01 00:00:00</th>\n",
              "      <td>10.359150</td>\n",
              "    </tr>\n",
              "    <tr>\n",
              "      <th>2019-01-01 01:00:00</th>\n",
              "      <td>10.343443</td>\n",
              "    </tr>\n",
              "    <tr>\n",
              "      <th>2019-01-01 02:00:00</th>\n",
              "      <td>10.358608</td>\n",
              "    </tr>\n",
              "    <tr>\n",
              "      <th>2019-01-01 03:00:00</th>\n",
              "      <td>10.389479</td>\n",
              "    </tr>\n",
              "    <tr>\n",
              "      <th>2019-01-01 04:00:00</th>\n",
              "      <td>10.364024</td>\n",
              "    </tr>\n",
              "    <tr>\n",
              "      <th>...</th>\n",
              "      <td>...</td>\n",
              "    </tr>\n",
              "    <tr>\n",
              "      <th>2019-01-31 19:00:00</th>\n",
              "      <td>5.212342</td>\n",
              "    </tr>\n",
              "    <tr>\n",
              "      <th>2019-01-31 20:00:00</th>\n",
              "      <td>5.206384</td>\n",
              "    </tr>\n",
              "    <tr>\n",
              "      <th>2019-01-31 21:00:00</th>\n",
              "      <td>5.202593</td>\n",
              "    </tr>\n",
              "    <tr>\n",
              "      <th>2019-01-31 22:00:00</th>\n",
              "      <td>5.190136</td>\n",
              "    </tr>\n",
              "    <tr>\n",
              "      <th>2019-01-31 23:00:00</th>\n",
              "      <td>5.130560</td>\n",
              "    </tr>\n",
              "  </tbody>\n",
              "</table>\n",
              "<p>744 rows × 1 columns</p>\n",
              "</div>\n",
              "      <button class=\"colab-df-convert\" onclick=\"convertToInteractive('df-ca7eab97-63c7-4af6-87b8-20dbcc6019be')\"\n",
              "              title=\"Convert this dataframe to an interactive table.\"\n",
              "              style=\"display:none;\">\n",
              "        \n",
              "  <svg xmlns=\"http://www.w3.org/2000/svg\" height=\"24px\"viewBox=\"0 0 24 24\"\n",
              "       width=\"24px\">\n",
              "    <path d=\"M0 0h24v24H0V0z\" fill=\"none\"/>\n",
              "    <path d=\"M18.56 5.44l.94 2.06.94-2.06 2.06-.94-2.06-.94-.94-2.06-.94 2.06-2.06.94zm-11 1L8.5 8.5l.94-2.06 2.06-.94-2.06-.94L8.5 2.5l-.94 2.06-2.06.94zm10 10l.94 2.06.94-2.06 2.06-.94-2.06-.94-.94-2.06-.94 2.06-2.06.94z\"/><path d=\"M17.41 7.96l-1.37-1.37c-.4-.4-.92-.59-1.43-.59-.52 0-1.04.2-1.43.59L10.3 9.45l-7.72 7.72c-.78.78-.78 2.05 0 2.83L4 21.41c.39.39.9.59 1.41.59.51 0 1.02-.2 1.41-.59l7.78-7.78 2.81-2.81c.8-.78.8-2.07 0-2.86zM5.41 20L4 18.59l7.72-7.72 1.47 1.35L5.41 20z\"/>\n",
              "  </svg>\n",
              "      </button>\n",
              "      \n",
              "  <style>\n",
              "    .colab-df-container {\n",
              "      display:flex;\n",
              "      flex-wrap:wrap;\n",
              "      gap: 12px;\n",
              "    }\n",
              "\n",
              "    .colab-df-convert {\n",
              "      background-color: #E8F0FE;\n",
              "      border: none;\n",
              "      border-radius: 50%;\n",
              "      cursor: pointer;\n",
              "      display: none;\n",
              "      fill: #1967D2;\n",
              "      height: 32px;\n",
              "      padding: 0 0 0 0;\n",
              "      width: 32px;\n",
              "    }\n",
              "\n",
              "    .colab-df-convert:hover {\n",
              "      background-color: #E2EBFA;\n",
              "      box-shadow: 0px 1px 2px rgba(60, 64, 67, 0.3), 0px 1px 3px 1px rgba(60, 64, 67, 0.15);\n",
              "      fill: #174EA6;\n",
              "    }\n",
              "\n",
              "    [theme=dark] .colab-df-convert {\n",
              "      background-color: #3B4455;\n",
              "      fill: #D2E3FC;\n",
              "    }\n",
              "\n",
              "    [theme=dark] .colab-df-convert:hover {\n",
              "      background-color: #434B5C;\n",
              "      box-shadow: 0px 1px 3px 1px rgba(0, 0, 0, 0.15);\n",
              "      filter: drop-shadow(0px 1px 2px rgba(0, 0, 0, 0.3));\n",
              "      fill: #FFFFFF;\n",
              "    }\n",
              "  </style>\n",
              "\n",
              "      <script>\n",
              "        const buttonEl =\n",
              "          document.querySelector('#df-ca7eab97-63c7-4af6-87b8-20dbcc6019be button.colab-df-convert');\n",
              "        buttonEl.style.display =\n",
              "          google.colab.kernel.accessAllowed ? 'block' : 'none';\n",
              "\n",
              "        async function convertToInteractive(key) {\n",
              "          const element = document.querySelector('#df-ca7eab97-63c7-4af6-87b8-20dbcc6019be');\n",
              "          const dataTable =\n",
              "            await google.colab.kernel.invokeFunction('convertToInteractive',\n",
              "                                                     [key], {});\n",
              "          if (!dataTable) return;\n",
              "\n",
              "          const docLinkHtml = 'Like what you see? Visit the ' +\n",
              "            '<a target=\"_blank\" href=https://colab.research.google.com/notebooks/data_table.ipynb>data table notebook</a>'\n",
              "            + ' to learn more about interactive tables.';\n",
              "          element.innerHTML = '';\n",
              "          dataTable['output_type'] = 'display_data';\n",
              "          await google.colab.output.renderOutput(dataTable, element);\n",
              "          const docLink = document.createElement('div');\n",
              "          docLink.innerHTML = docLinkHtml;\n",
              "          element.appendChild(docLink);\n",
              "        }\n",
              "      </script>\n",
              "    </div>\n",
              "  </div>\n",
              "  "
            ]
          },
          "metadata": {},
          "execution_count": 68
        }
      ]
    },
    {
      "cell_type": "code",
      "source": [
        "#Resampling the hourly consumption charges into daily by using the resample function and sum\n",
        "Daily_Cost = Hourly_Cost.resample(\"D\").sum()\n",
        "\n",
        "print(\"total cost\", Daily_Cost.sum())"
      ],
      "metadata": {
        "colab": {
          "base_uri": "https://localhost:8080/"
        },
        "id": "rlOX3xW2Ymz0",
        "outputId": "28a195c1-aaa6-4c1a-c52e-55e974990030"
      },
      "execution_count": null,
      "outputs": [
        {
          "output_type": "stream",
          "name": "stdout",
          "text": [
            "total cost kWh    6085.325879\n",
            "dtype: float64\n"
          ]
        }
      ]
    },
    {
      "cell_type": "code",
      "source": [
        "fig, ax = plt.subplots(figsize = (16,5))\n",
        "ax2 = ax.twinx() # Create another axes that shares the same x-axis as ax.\n",
        "ax.plot(Hourly_Cost,  label='Hourly Price',color = 'tab:red')\n",
        "ax2.plot(predicted,  label='Hourly Predicted consumption',color = 'tab:green')\n",
        "ax.set_ylabel('Hourly Price [Euro]', size=16, color='orange')\n",
        "ax2.set_ylabel('Hourly Predicted consumption [kWh]',size=16, color='green')\n",
        "ax.set_xlabel('Time',size=16,)\n",
        "fig.legend()"
      ],
      "metadata": {
        "colab": {
          "base_uri": "https://localhost:8080/",
          "height": 349
        },
        "id": "VI2Nh6U0Ypnd",
        "outputId": "f65a4db7-c2a8-4373-a0e6-e221b95c8bfc"
      },
      "execution_count": null,
      "outputs": [
        {
          "output_type": "execute_result",
          "data": {
            "text/plain": [
              "<matplotlib.legend.Legend at 0x7ff2a7143910>"
            ]
          },
          "metadata": {},
          "execution_count": 70
        },
        {
          "output_type": "display_data",
          "data": {
            "text/plain": [
              "<Figure size 1152x360 with 2 Axes>"
            ],
            "image/png": "[encoded data removed]"
          },
          "metadata": {
            "needs_background": "light"
          }
        }
      ]
    },
    {
      "cell_type": "code",
      "source": [
        "fig, ax = plt.subplots(figsize = (16,5))\n",
        "ax2 = ax.twinx() # Create another axes that shares the same x-axis as ax.\n",
        "ax.plot(Hourly_Cost,  label='Hourly Price',color = 'tab:red')\n",
        "ax2.plot(predicted,  label='Hourly Predicted consumption',color = 'tab:green', linestyle='dashed')\n",
        "ax.set_ylabel('Hourly Price [Euro]', size=16, color='orange')\n",
        "ax2.set_ylabel('Hourly Predicted consumption [kWh]',size=16, color='green')\n",
        "ax.set_xlabel('Time',size=16)\n",
        "fig.legend()"
      ],
      "metadata": {
        "colab": {
          "base_uri": "https://localhost:8080/",
          "height": 349
        },
        "id": "ljIXtrZgYwC2",
        "outputId": "d51a3468-5d21-4b4e-b398-dda01e1a13f8"
      },
      "execution_count": null,
      "outputs": [
        {
          "output_type": "execute_result",
          "data": {
            "text/plain": [
              "<matplotlib.legend.Legend at 0x7ff2a703e5d0>"
            ]
          },
          "metadata": {},
          "execution_count": 71
        },
        {
          "output_type": "display_data",
          "data": {
            "text/plain": [
              "<Figure size 1152x360 with 2 Axes>"
            ],
            "image/png": "[encoded data removed]"
          },
          "metadata": {
            "needs_background": "light"
          }
        }
      ]
    },
    {
      "cell_type": "code",
      "source": [
        "fig, ax = plt.subplots(figsize=(16,5))\n",
        "ax2 = ax.twinx() # Create another axes that shares the same x-axis as ax.\n",
        "ax.plot(Daily_Cost, label= 'Daily price', color = 'tab:orange')\n",
        "ax2.plot(predicted, label='Hourly predicted consumption', color = 'tab:green')\n",
        "ax.set_ylabel('Daily Price [Euro]', size=15, color='orange')\n",
        "ax2.set_ylabel('Hourly Predicted consumption [kWh]',size=15, color='green')\n",
        "ax.set_xlabel('Time',size=15)\n",
        "fig.legend()"
      ],
      "metadata": {
        "colab": {
          "base_uri": "https://localhost:8080/",
          "height": 347
        },
        "id": "oq17DyA3Yy7K",
        "outputId": "d3eeae25-9794-4b49-c3d0-0e814be75de2"
      },
      "execution_count": null,
      "outputs": [
        {
          "output_type": "execute_result",
          "data": {
            "text/plain": [
              "<matplotlib.legend.Legend at 0x7ff2a6fd9e90>"
            ]
          },
          "metadata": {},
          "execution_count": 72
        },
        {
          "output_type": "display_data",
          "data": {
            "text/plain": [
              "<Figure size 1152x360 with 2 Axes>"
            ],
            "image/png": "[encoded data removed]"
          },
          "metadata": {
            "needs_background": "light"
          }
        }
      ]
    },
    {
      "cell_type": "code",
      "source": [
        "fig = plt.figure(figsize = (16,5)) # Create matplotlib figure\n",
        "ax = fig.add_subplot(111) # Create matplotlib axes\n",
        "Daily_Cost.plot(kind='bar', ax=ax, rot=0,color='green')\n",
        "ax.axhline(y=160, color='red', linestyle='--', label=\"Warning for over budget \")\n",
        "plt.text(17, 165, 'Warning for over budget', fontsize=12)\n",
        "\n",
        "ax.set_ylabel('Consumption', size=16, color='black')\n",
        "plt.xticks(rotation='vertical')\n",
        "ax.set_xticklabels([dt.strftime('%Y-%m-%d') for dt in Daily_Cost.index])\n",
        "fig.legend()"
      ],
      "metadata": {
        "colab": {
          "base_uri": "https://localhost:8080/",
          "height": 384
        },
        "id": "LD52ChvZY7y2",
        "outputId": "ba99926d-3e3d-4a81-8cb3-402bbd1a11e2"
      },
      "execution_count": null,
      "outputs": [
        {
          "output_type": "execute_result",
          "data": {
            "text/plain": [
              "<matplotlib.legend.Legend at 0x7ff2a6e5f350>"
            ]
          },
          "metadata": {},
          "execution_count": 73
        },
        {
          "output_type": "display_data",
          "data": {
            "text/plain": [
              "<Figure size 1152x360 with 1 Axes>"
            ],
            "image/png": "[encoded data removed]"
          },
          "metadata": {
            "needs_background": "light"
          }
        }
      ]
    }
  ]
}